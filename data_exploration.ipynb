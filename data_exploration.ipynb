{
 "cells": [
  {
   "cell_type": "code",
   "execution_count": 32,
   "metadata": {},
   "outputs": [],
   "source": [
    "import numpy as np\n",
    "import pandas as pd\n",
    "\n",
    "from tqdm import tqdm\n",
    "\n",
    "from data_preprocessing import tokenize_text,join_tokens"
   ]
  },
  {
   "cell_type": "code",
   "execution_count": 18,
   "metadata": {},
   "outputs": [],
   "source": [
    "#pandas display settings\n",
    "\n",
    "pd.set_option('display.max_colwidth', None)"
   ]
  },
  {
   "cell_type": "code",
   "execution_count": null,
   "metadata": {},
   "outputs": [],
   "source": [
    "datapath = f\"data/\"\n",
    "\n"
   ]
  },
  {
   "cell_type": "code",
   "execution_count": 14,
   "metadata": {},
   "outputs": [],
   "source": [
    "seed = 42"
   ]
  },
  {
   "cell_type": "code",
   "execution_count": 9,
   "metadata": {},
   "outputs": [
    {
     "name": "stderr",
     "output_type": "stream",
     "text": [
      "100%|██████████| 10/10 [00:27<00:00,  2.76s/it]\n"
     ]
    }
   ],
   "source": [
    "dfs = []\n",
    "\n",
    "for i in tqdm(range(10)):\n",
    "    dfs.append(pd.read_parquet(datapath + f\"ner/ner_dataset_{i+1}_of_10.parquet\",engine='pyarrow'))"
   ]
  },
  {
   "cell_type": "code",
   "execution_count": 11,
   "metadata": {},
   "outputs": [
    {
     "ename": "NameError",
     "evalue": "name 'dfs' is not defined",
     "output_type": "error",
     "traceback": [
      "\u001b[1;31m---------------------------------------------------------------------------\u001b[0m",
      "\u001b[1;31mNameError\u001b[0m                                 Traceback (most recent call last)",
      "Cell \u001b[1;32mIn[11], line 1\u001b[0m\n\u001b[1;32m----> 1\u001b[0m data_df \u001b[38;5;241m=\u001b[39m pd\u001b[38;5;241m.\u001b[39mconcat(dfs,axis \u001b[38;5;241m=\u001b[39m \u001b[38;5;241m0\u001b[39m,ignore_index\u001b[38;5;241m=\u001b[39m\u001b[38;5;28;01mTrue\u001b[39;00m)\n\u001b[0;32m      2\u001b[0m \u001b[38;5;28;01mdel\u001b[39;00m dfs\n",
      "\u001b[1;31mNameError\u001b[0m: name 'dfs' is not defined"
     ]
    }
   ],
   "source": [
    "data_df = pd.concat(dfs,axis = 0,ignore_index=True)\n",
    "del dfs"
   ]
  },
  {
   "cell_type": "code",
   "execution_count": null,
   "metadata": {},
   "outputs": [
    {
     "data": {
      "text/plain": [
       "70615    [Partecipanti, al, procedimento, Ascomp, ,, Zurich, ,, Switzerland, Abrantix, SA, ,, patrocinata, dall, ', avv, ., Andrea, Ferrazzini, ,, ricorrente, ,, contro, 1, ., Ministero, pubblico, del, Cantone, Ticino, ,, palazzo, di, giustizia, ,, via, Pretorio, 16, ,, 6901, Lugano, ,, 2, ., Abrantix, Ltd, ,, patrocinata, dall, ', avv, ., Georg, Zondler, ,, 3, ., Tiago, Todorova, ,, 4, ., Cliente, 01, ,, 5, ., Elisabeth, Friess, ,, entrambi, patrocinati, dall, ', avv, ., dott, ., Elio, Brunetti, ,, 6, ., Martina, Zurbriggen, ,, patrocinato, dall, ', avv, ., Ilario, Bernasconi, ,, 7, ., Cliente, 02, ,, 8, ., ...]\n",
       "Name: tokenized_text, dtype: object"
      ]
     },
     "execution_count": 19,
     "metadata": {},
     "output_type": "execute_result"
    }
   ],
   "source": [
    "data_df['tokenized_text'].sample(10,random_state=seed)"
   ]
  },
  {
   "cell_type": "markdown",
   "metadata": {},
   "source": [
    "Example 4 (101992)\n",
    "Original\n",
    "Bundesgericht Tribunal fédéral Tribunale federale Tribunal federal 5A_541/2021 Urteil vom 5. Juli 2021 II. zivilrechtliche Abteilung Besetzung Bundesrichter Herrmann, Präsident, Gerichtsschreiber Zingg. Verfahrensbeteiligte A.________, Beschwerdeführer, gegen B.________ SA, Beschwerdegegnerin. Gegenstand Konkurseröffnung, Beschwerde gegen den Entscheid des Obergerichts des Kantons Aargau, Zivilgericht, 4. Kammer, vom 31. Mai 2021 (ZSU.2021.66). Erwägungen: 1. Die Beschwerdegegnerin betrieb den Beschwerdeführer mit Zahlungsbefehl Nr. xxx des Betreibungsamtes U.________ für zwei \n"
   ]
  },
  {
   "cell_type": "code",
   "execution_count": null,
   "metadata": {},
   "outputs": [
    {
     "name": "stdout",
     "output_type": "stream",
     "text": [
      "['ZSU', '.', '2021', '.', '66']\n"
     ]
    }
   ],
   "source": [
    "filter = tokenize_text(\"ZSU.2021.66\")\n",
    "print(filter)\n",
    "\n",
    "match = data_df[data_df['tokenized_text'].apply(lambda x : all(substring in x for substring in filter))]"
   ]
  },
  {
   "cell_type": "code",
   "execution_count": 24,
   "metadata": {},
   "outputs": [
    {
     "data": {
      "text/html": [
       "<div>\n",
       "<style scoped>\n",
       "    .dataframe tbody tr th:only-of-type {\n",
       "        vertical-align: middle;\n",
       "    }\n",
       "\n",
       "    .dataframe tbody tr th {\n",
       "        vertical-align: top;\n",
       "    }\n",
       "\n",
       "    .dataframe thead th {\n",
       "        text-align: right;\n",
       "    }\n",
       "</style>\n",
       "<table border=\"1\" class=\"dataframe\">\n",
       "  <thead>\n",
       "    <tr style=\"text-align: right;\">\n",
       "      <th></th>\n",
       "      <th>tokenized_text</th>\n",
       "      <th>start_token_indices</th>\n",
       "      <th>end_token_indices</th>\n",
       "      <th>ner_labels</th>\n",
       "    </tr>\n",
       "  </thead>\n",
       "  <tbody>\n",
       "    <tr>\n",
       "      <th>100036</th>\n",
       "      <td>[Bundesgericht, Tribunal, fédéral, Tribunale, federale, Tribunal, federal, 5D_25, /, 2021, Urteil, vom, 15, ., Februar, 2021, II, ., zivilrechtliche, Abteilung, Besetzung, Bundesrichterin, Escher, ,, präsidierendes, Mitglied, ,, Gerichtsschreiber, Zingg, ., Verfahrensbeteiligte, Marek, Perna, ,, Beschwerdeführer, ,, gegen, Bezirksgericht, Lenzburg, ,, Metzgplatz, ,, 5600, Lenzburg, ,, Beschwerdegegner, ,, Kanton, Aargau, ,, vertreten, durch, die, Gerichtskasse, Kulm, ,, Bezirksgebäude, ,, Zentrumsplatz, 1, ,, 5726, Unterkulm, ., Gegenstand, unentgeltliche, Rechtspflege, (, Rechtsöffnungsverfahren, ), ,, Beschwerde, gegen, den, Entscheid, des, Obergerichts, des, Kantons, Aargau, ,, Zivilgericht, ,, 4, ., Kammer, ,, vom, 11, ., Dezember, 2020, (, ZSU, ., 2020, ., 265, ), ., ...]</td>\n",
       "      <td>[31]</td>\n",
       "      <td>[32]</td>\n",
       "      <td>[a_name]</td>\n",
       "    </tr>\n",
       "    <tr>\n",
       "      <th>100037</th>\n",
       "      <td>[Bundesgericht, Tribunal, fédéral, Tribunale, federale, Tribunal, federal, 5D_24, /, 2021, Urteil, vom, 15, ., Februar, 2021, II, ., zivilrechtliche, Abteilung, Besetzung, Bundesrichterin, Escher, ,, präsidierendes, Mitglied, ,, Gerichtsschreiber, Zingg, ., Verfahrensbeteiligte, Isabelle, Rrahmani, ,, Beschwerdeführer, ,, gegen, Bezirksgericht, Lenzburg, ,, Metzgplatz, ,, 5600, Lenzburg, ,, Beschwerdegegner, ,, Max, Moncalieri, ., Gegenstand, unentgeltliche, Rechtspflege, (, Rechtsöffnungsverfahren, ), ,, Beschwerde, gegen, den, Entscheid, des, Obergerichts, des, Kantons, Aargau, ,, Zivilgericht, ,, 4, ., Kammer, ,, vom, 11, ., Dezember, 2020, (, ZSU, ., 2020, ., 264, ), ., Erwägungen, :, 1, ., Am, 30, ., Juli, 2020, stellte, Max, Moncalieri, das, Rechtsöffnungsbegehren, ...]</td>\n",
       "      <td>[31, 47, 96]</td>\n",
       "      <td>[32, 48, 97]</td>\n",
       "      <td>[a_name, a_name, a_name]</td>\n",
       "    </tr>\n",
       "    <tr>\n",
       "      <th>107571</th>\n",
       "      <td>[Parteien, einen, Nachtrag, zum, Vergleich, vom, 15, ., Juli, 2021, hätten, schliessen, können, ,, der, nun, auch, ausdrücklich, die, vorliegende, datenschutzrechtliche, Angelegenheit, regle, ., Er, ersuchte, ebenfalls, darum, ,, das, Verfahren, infolge, Vergleichs, abzuschreiben, sowie, die, Kosten, (, unter, Neuverlegung, der, Kosten, der, Vorinstanzen, ), nach, Massgabe, des, Vergleichs, (, Ziff, ., 1, ., c, des, beigelegten, Nachtrags, ), zu, verlegen, ., Ferner, reichte, er, -, mit, Blick, auf, das, Gesuch, des, Beschwerdeführers, um, unentgeltliche, Rechtspflege, -, eine, ergänzende, Honorarnote, ein, ., Diese, Eingabe, wurde, der, Vorinstanz, und, der, weiteren, Verfahrensbeteiligten, mit, Verfügungen, vom, 17, ., und, 28, ., Dezember, ...]</td>\n",
       "      <td>[1646]</td>\n",
       "      <td>[1646]</td>\n",
       "      <td>[a_organisation]</td>\n",
       "    </tr>\n",
       "    <tr>\n",
       "      <th>114693</th>\n",
       "      <td>[Parteientschädigung, von, Fr, ., 1, ', 637, ., 35, auszurichten, ., Eventualiter, sei, der, Entscheid, aufzuheben, und, die, Sache, zur, Neubeurteilung, an, die, Vorinstanz, zurückzuweisen, ., Subeventualiter, sei, der, Entscheid, teilweise, aufzuheben, und, es, sei, der, Beschwerdeführerin, für, das, vorinstanzliche, Verfahren, die, unentgeltliche, Rechtspflege, und, Verbeiständung, zu, gewähren, ., Für, das, bundesgerichtliche, Verfahren, stellt, die, Beschwerdeführerin, ausserdem, ein, Gesuch, um, unentgeltliche, Rechtspflege, und, Verbeiständung, ., C, ., b, ., Das, Obergericht, verzichtete, mit, Eingabe, vom, 12, ., Januar, 2023, auf, Vernehmlassung, ., Das, Bundesgericht, hat, die, kantonalen, Akten, eingeholt, ., Erwägungen, :, 1, ., Die, Beschwerde, richtet, sich, gegen, den, ...]</td>\n",
       "      <td>[]</td>\n",
       "      <td>[]</td>\n",
       "      <td>[]</td>\n",
       "    </tr>\n",
       "    <tr>\n",
       "      <th>121362</th>\n",
       "      <td>[Parteientschädigung, zu, (, Entscheid, vom, 19, ., Juni, 2023, ), ., C, ., Gegen, diesen, (, ihr, am, 6, ., Juli, 2023, zugestellten, ), Entscheid, gelangt, Lydia, Mazreku, (, Beschwerdeführerin, ), mit, Beschwerde, in, Zivilsachen, vom, 1, ., September, 2023, an, das, Bundesgericht, ., In, Gutheissung, ihrer, Beschwerde, sei, ihr, für, das, Scheidungsverfahren, die, vollumfängliche, unentgeltliche, Rechtspflege, und, Verbeiständung, zu, gewähren, ., Für, das, erst, -, und, zweitinstanzliche, Verfahren, seien, ausserdem, keine, Kosten, zu, erheben, und, die, Gerichtskasse, Rheinfelden, sei, anzuweisen, ,, der, Beschwerdeführerin, für, das, Verfahren, vor, dem, Obergericht, eine, Parteientschädigung, von, Fr, ., 2, ', 619, ., 50, ...]</td>\n",
       "      <td>[26]</td>\n",
       "      <td>[27]</td>\n",
       "      <td>[a_name]</td>\n",
       "    </tr>\n",
       "    <tr>\n",
       "      <th>123638</th>\n",
       "      <td>[Parteientschädigung, auszurichten, ., Am, 8, ., Mai, 2024, nahm, das, Obergericht, Stellung, zu, der, Beschwerde, ,, ohne, einen, Antrag, zu, stellen, ., Das, Bundesgericht, hat, zudem, die, kantonalen, Akten, eingeholt, ., Erwägungen, :, 1, ., 1, ., 1, ., Angefochten, ist, der, Endentscheid, (, Art, ., 90, BGG, ), einer, letzten, kantonalen, Instanz, (, Art, ., 75, BGG, ), über, die, Entschädigung, des, Beschwerdeführers, als, unentgeltlicher, Rechtsbeistand, in, einer, Zivilsache, nach, Art, ., 72, Abs, ., 1, BGG, (, Eheschutz, ), ., Der, öffentlich-rechtliche, Entschädigungsanspruch, bezieht, sich, auf, das, Tätigwerden, in, einer, Streitsache, ,, die, der, Beschwerde, in, Zivilsachen, unterliegt, ...]</td>\n",
       "      <td>[3823, 3867, 4976, 4988, 5041, 5349, 5390, 3836, 3884, 4974, 3876, 4954, 4986, 5036, 5347, 5388]</td>\n",
       "      <td>[3823, 3867, 4976, 4988, 5041, 5349, 5390, 3836, 3884, 4974, 3876, 4954, 4986, 5036, 5347, 5388]</td>\n",
       "      <td>[a_place, a_place, a_place, a_place, a_place, a_place, a_place, a_place, a_place, a_place, a_place, a_place, a_place, a_place, a_place, a_place]</td>\n",
       "    </tr>\n",
       "  </tbody>\n",
       "</table>\n",
       "</div>"
      ],
      "text/plain": [
       "                                                                                                                                                                                                                                                                                                                                                                                                                                                                                                                                                                                                                                                                                                                                                                                                                          tokenized_text  \\\n",
       "100036               [Bundesgericht, Tribunal, fédéral, Tribunale, federale, Tribunal, federal, 5D_25, /, 2021, Urteil, vom, 15, ., Februar, 2021, II, ., zivilrechtliche, Abteilung, Besetzung, Bundesrichterin, Escher, ,, präsidierendes, Mitglied, ,, Gerichtsschreiber, Zingg, ., Verfahrensbeteiligte, Marek, Perna, ,, Beschwerdeführer, ,, gegen, Bezirksgericht, Lenzburg, ,, Metzgplatz, ,, 5600, Lenzburg, ,, Beschwerdegegner, ,, Kanton, Aargau, ,, vertreten, durch, die, Gerichtskasse, Kulm, ,, Bezirksgebäude, ,, Zentrumsplatz, 1, ,, 5726, Unterkulm, ., Gegenstand, unentgeltliche, Rechtspflege, (, Rechtsöffnungsverfahren, ), ,, Beschwerde, gegen, den, Entscheid, des, Obergerichts, des, Kantons, Aargau, ,, Zivilgericht, ,, 4, ., Kammer, ,, vom, 11, ., Dezember, 2020, (, ZSU, ., 2020, ., 265, ), ., ...]   \n",
       "100037                [Bundesgericht, Tribunal, fédéral, Tribunale, federale, Tribunal, federal, 5D_24, /, 2021, Urteil, vom, 15, ., Februar, 2021, II, ., zivilrechtliche, Abteilung, Besetzung, Bundesrichterin, Escher, ,, präsidierendes, Mitglied, ,, Gerichtsschreiber, Zingg, ., Verfahrensbeteiligte, Isabelle, Rrahmani, ,, Beschwerdeführer, ,, gegen, Bezirksgericht, Lenzburg, ,, Metzgplatz, ,, 5600, Lenzburg, ,, Beschwerdegegner, ,, Max, Moncalieri, ., Gegenstand, unentgeltliche, Rechtspflege, (, Rechtsöffnungsverfahren, ), ,, Beschwerde, gegen, den, Entscheid, des, Obergerichts, des, Kantons, Aargau, ,, Zivilgericht, ,, 4, ., Kammer, ,, vom, 11, ., Dezember, 2020, (, ZSU, ., 2020, ., 264, ), ., Erwägungen, :, 1, ., Am, 30, ., Juli, 2020, stellte, Max, Moncalieri, das, Rechtsöffnungsbegehren, ...]   \n",
       "107571                                             [Parteien, einen, Nachtrag, zum, Vergleich, vom, 15, ., Juli, 2021, hätten, schliessen, können, ,, der, nun, auch, ausdrücklich, die, vorliegende, datenschutzrechtliche, Angelegenheit, regle, ., Er, ersuchte, ebenfalls, darum, ,, das, Verfahren, infolge, Vergleichs, abzuschreiben, sowie, die, Kosten, (, unter, Neuverlegung, der, Kosten, der, Vorinstanzen, ), nach, Massgabe, des, Vergleichs, (, Ziff, ., 1, ., c, des, beigelegten, Nachtrags, ), zu, verlegen, ., Ferner, reichte, er, -, mit, Blick, auf, das, Gesuch, des, Beschwerdeführers, um, unentgeltliche, Rechtspflege, -, eine, ergänzende, Honorarnote, ein, ., Diese, Eingabe, wurde, der, Vorinstanz, und, der, weiteren, Verfahrensbeteiligten, mit, Verfügungen, vom, 17, ., und, 28, ., Dezember, ...]   \n",
       "114693  [Parteientschädigung, von, Fr, ., 1, ', 637, ., 35, auszurichten, ., Eventualiter, sei, der, Entscheid, aufzuheben, und, die, Sache, zur, Neubeurteilung, an, die, Vorinstanz, zurückzuweisen, ., Subeventualiter, sei, der, Entscheid, teilweise, aufzuheben, und, es, sei, der, Beschwerdeführerin, für, das, vorinstanzliche, Verfahren, die, unentgeltliche, Rechtspflege, und, Verbeiständung, zu, gewähren, ., Für, das, bundesgerichtliche, Verfahren, stellt, die, Beschwerdeführerin, ausserdem, ein, Gesuch, um, unentgeltliche, Rechtspflege, und, Verbeiständung, ., C, ., b, ., Das, Obergericht, verzichtete, mit, Eingabe, vom, 12, ., Januar, 2023, auf, Vernehmlassung, ., Das, Bundesgericht, hat, die, kantonalen, Akten, eingeholt, ., Erwägungen, :, 1, ., Die, Beschwerde, richtet, sich, gegen, den, ...]   \n",
       "121362                                                          [Parteientschädigung, zu, (, Entscheid, vom, 19, ., Juni, 2023, ), ., C, ., Gegen, diesen, (, ihr, am, 6, ., Juli, 2023, zugestellten, ), Entscheid, gelangt, Lydia, Mazreku, (, Beschwerdeführerin, ), mit, Beschwerde, in, Zivilsachen, vom, 1, ., September, 2023, an, das, Bundesgericht, ., In, Gutheissung, ihrer, Beschwerde, sei, ihr, für, das, Scheidungsverfahren, die, vollumfängliche, unentgeltliche, Rechtspflege, und, Verbeiständung, zu, gewähren, ., Für, das, erst, -, und, zweitinstanzliche, Verfahren, seien, ausserdem, keine, Kosten, zu, erheben, und, die, Gerichtskasse, Rheinfelden, sei, anzuweisen, ,, der, Beschwerdeführerin, für, das, Verfahren, vor, dem, Obergericht, eine, Parteientschädigung, von, Fr, ., 2, ', 619, ., 50, ...]   \n",
       "123638                                                                                       [Parteientschädigung, auszurichten, ., Am, 8, ., Mai, 2024, nahm, das, Obergericht, Stellung, zu, der, Beschwerde, ,, ohne, einen, Antrag, zu, stellen, ., Das, Bundesgericht, hat, zudem, die, kantonalen, Akten, eingeholt, ., Erwägungen, :, 1, ., 1, ., 1, ., Angefochten, ist, der, Endentscheid, (, Art, ., 90, BGG, ), einer, letzten, kantonalen, Instanz, (, Art, ., 75, BGG, ), über, die, Entschädigung, des, Beschwerdeführers, als, unentgeltlicher, Rechtsbeistand, in, einer, Zivilsache, nach, Art, ., 72, Abs, ., 1, BGG, (, Eheschutz, ), ., Der, öffentlich-rechtliche, Entschädigungsanspruch, bezieht, sich, auf, das, Tätigwerden, in, einer, Streitsache, ,, die, der, Beschwerde, in, Zivilsachen, unterliegt, ...]   \n",
       "\n",
       "                                                                                     start_token_indices  \\\n",
       "100036                                                                                              [31]   \n",
       "100037                                                                                      [31, 47, 96]   \n",
       "107571                                                                                            [1646]   \n",
       "114693                                                                                                []   \n",
       "121362                                                                                              [26]   \n",
       "123638  [3823, 3867, 4976, 4988, 5041, 5349, 5390, 3836, 3884, 4974, 3876, 4954, 4986, 5036, 5347, 5388]   \n",
       "\n",
       "                                                                                       end_token_indices  \\\n",
       "100036                                                                                              [32]   \n",
       "100037                                                                                      [32, 48, 97]   \n",
       "107571                                                                                            [1646]   \n",
       "114693                                                                                                []   \n",
       "121362                                                                                              [27]   \n",
       "123638  [3823, 3867, 4976, 4988, 5041, 5349, 5390, 3836, 3884, 4974, 3876, 4954, 4986, 5036, 5347, 5388]   \n",
       "\n",
       "                                                                                                                                              ner_labels  \n",
       "100036                                                                                                                                          [a_name]  \n",
       "100037                                                                                                                          [a_name, a_name, a_name]  \n",
       "107571                                                                                                                                  [a_organisation]  \n",
       "114693                                                                                                                                                []  \n",
       "121362                                                                                                                                          [a_name]  \n",
       "123638  [a_place, a_place, a_place, a_place, a_place, a_place, a_place, a_place, a_place, a_place, a_place, a_place, a_place, a_place, a_place, a_place]  "
      ]
     },
     "execution_count": 24,
     "metadata": {},
     "output_type": "execute_result"
    }
   ],
   "source": [
    "match"
   ]
  },
  {
   "cell_type": "code",
   "execution_count": 33,
   "metadata": {},
   "outputs": [
    {
     "data": {
      "text/plain": [
       "'Parteien, dem Konkursamt Aargau, Amtsstelle Oberentfelden, dem Betreibungsamt Grône, dem Handelsregisteramt des Kantons Aargau, dem Grundbuchamt Heitenried und dem Obergericht des Kantons Aargau, Zivilgericht, 4. Kammer, schriftlich mitgeteilt. Lausanne'"
      ]
     },
     "execution_count": 33,
     "metadata": {},
     "output_type": "execute_result"
    }
   ],
   "source": [
    "join_tokens(data_df['tokenized_text'].iloc[101992])"
   ]
  }
 ],
 "metadata": {
  "kernelspec": {
   "display_name": "DSL_NER",
   "language": "python",
   "name": "python3"
  },
  "language_info": {
   "codemirror_mode": {
    "name": "ipython",
    "version": 3
   },
   "file_extension": ".py",
   "mimetype": "text/x-python",
   "name": "python",
   "nbconvert_exporter": "python",
   "pygments_lexer": "ipython3",
   "version": "3.11.10"
  }
 },
 "nbformat": 4,
 "nbformat_minor": 2
}
