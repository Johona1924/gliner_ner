{
 "cells": [
  {
   "cell_type": "code",
   "execution_count": 121,
   "metadata": {},
   "outputs": [],
   "source": [
    "import numpy as np\n",
    "import pandas as pd\n",
    "import os"
   ]
  },
  {
   "cell_type": "code",
   "execution_count": 122,
   "metadata": {},
   "outputs": [],
   "source": [
    "data_ner_path = f\"data/ner/\"\n",
    "\n",
    "seed = 42"
   ]
  },
  {
   "cell_type": "markdown",
   "metadata": {},
   "source": [
    "# utils"
   ]
  },
  {
   "cell_type": "code",
   "execution_count": 126,
   "metadata": {},
   "outputs": [],
   "source": [
    "def df_to_json(data : pd.DataFrame) -> list[dict]:\n",
    "     ner_data = data.apply(lambda x : \n",
    "                             [[int(x['start_token_indices'][i]),int(x['end_token_indices'][i]),x['ner_labels'][i]] for i in range(len(x['start_token_indices']))],axis = 1)\n",
    "     \n",
    "     return [{\"tokenized_text\" : list(tokenized_text), \"ner\" : ner} for tokenized_text,ner in zip(data['tokenized_text'],ner_data)]"
   ]
  },
  {
   "cell_type": "markdown",
   "metadata": {},
   "source": [
    "# load original training data"
   ]
  },
  {
   "cell_type": "code",
   "execution_count": 123,
   "metadata": {},
   "outputs": [],
   "source": [
    "data = pd.read_parquet(os.path.join(data_ner_path,\"ner_dataset_1_of_10.parquet\"))"
   ]
  },
  {
   "cell_type": "code",
   "execution_count": 124,
   "metadata": {},
   "outputs": [
    {
     "data": {
      "text/html": [
       "<div>\n",
       "<style scoped>\n",
       "    .dataframe tbody tr th:only-of-type {\n",
       "        vertical-align: middle;\n",
       "    }\n",
       "\n",
       "    .dataframe tbody tr th {\n",
       "        vertical-align: top;\n",
       "    }\n",
       "\n",
       "    .dataframe thead th {\n",
       "        text-align: right;\n",
       "    }\n",
       "</style>\n",
       "<table border=\"1\" class=\"dataframe\">\n",
       "  <thead>\n",
       "    <tr style=\"text-align: right;\">\n",
       "      <th></th>\n",
       "      <th>tokenized_text</th>\n",
       "      <th>start_token_indices</th>\n",
       "      <th>end_token_indices</th>\n",
       "      <th>ner_labels</th>\n",
       "    </tr>\n",
       "  </thead>\n",
       "  <tbody>\n",
       "    <tr>\n",
       "      <th>0</th>\n",
       "      <td>[Parteien, Maëlle, Meyer, ,, Beschwerdeführer,...</td>\n",
       "      <td>[1, 69, 131, 175, 309, 480, 505]</td>\n",
       "      <td>[2, 70, 132, 176, 310, 481, 506]</td>\n",
       "      <td>[a_name, a_name, a_name, a_name, a_name, a_nam...</td>\n",
       "    </tr>\n",
       "    <tr>\n",
       "      <th>1</th>\n",
       "      <td>[Tribunale, federale, Tribunal, federal, {, T,...</td>\n",
       "      <td>[44, 127, 233, 283, 387, 424, 443, 197, 292, 1...</td>\n",
       "      <td>[45, 128, 234, 284, 388, 425, 444, 198, 293, 1...</td>\n",
       "      <td>[a_name, a_name, a_name, a_name, a_name, a_nam...</td>\n",
       "    </tr>\n",
       "    <tr>\n",
       "      <th>2</th>\n",
       "      <td>[Parteien, Deborah, Thut, ,, Beschwerdeführer,...</td>\n",
       "      <td>[1, 86, 129, 159, 207, 271, 306, 190]</td>\n",
       "      <td>[2, 87, 130, 160, 208, 272, 307, 191]</td>\n",
       "      <td>[a_name, a_name, a_name, a_name, a_name, a_nam...</td>\n",
       "    </tr>\n",
       "    <tr>\n",
       "      <th>3</th>\n",
       "      <td>[Parteien, Denis, Schramm, ,, Beschwerdeführer...</td>\n",
       "      <td>[1, 93]</td>\n",
       "      <td>[2, 94]</td>\n",
       "      <td>[a_name, a_name]</td>\n",
       "    </tr>\n",
       "    <tr>\n",
       "      <th>4</th>\n",
       "      <td>[Parteien, Roland, Meier, ,, Beschwerdeführer,...</td>\n",
       "      <td>[1, 66, 193, 276]</td>\n",
       "      <td>[2, 67, 194, 277]</td>\n",
       "      <td>[a_name, a_name, a_name, a_name]</td>\n",
       "    </tr>\n",
       "  </tbody>\n",
       "</table>\n",
       "</div>"
      ],
      "text/plain": [
       "                                      tokenized_text  \\\n",
       "0  [Parteien, Maëlle, Meyer, ,, Beschwerdeführer,...   \n",
       "1  [Tribunale, federale, Tribunal, federal, {, T,...   \n",
       "2  [Parteien, Deborah, Thut, ,, Beschwerdeführer,...   \n",
       "3  [Parteien, Denis, Schramm, ,, Beschwerdeführer...   \n",
       "4  [Parteien, Roland, Meier, ,, Beschwerdeführer,...   \n",
       "\n",
       "                                 start_token_indices  \\\n",
       "0                   [1, 69, 131, 175, 309, 480, 505]   \n",
       "1  [44, 127, 233, 283, 387, 424, 443, 197, 292, 1...   \n",
       "2              [1, 86, 129, 159, 207, 271, 306, 190]   \n",
       "3                                            [1, 93]   \n",
       "4                                  [1, 66, 193, 276]   \n",
       "\n",
       "                                   end_token_indices  \\\n",
       "0                   [2, 70, 132, 176, 310, 481, 506]   \n",
       "1  [45, 128, 234, 284, 388, 425, 444, 198, 293, 1...   \n",
       "2              [2, 87, 130, 160, 208, 272, 307, 191]   \n",
       "3                                            [2, 94]   \n",
       "4                                  [2, 67, 194, 277]   \n",
       "\n",
       "                                          ner_labels  \n",
       "0  [a_name, a_name, a_name, a_name, a_name, a_nam...  \n",
       "1  [a_name, a_name, a_name, a_name, a_name, a_nam...  \n",
       "2  [a_name, a_name, a_name, a_name, a_name, a_nam...  \n",
       "3                                   [a_name, a_name]  \n",
       "4                   [a_name, a_name, a_name, a_name]  "
      ]
     },
     "execution_count": 124,
     "metadata": {},
     "output_type": "execute_result"
    }
   ],
   "source": [
    "data.head()"
   ]
  },
  {
   "cell_type": "code",
   "execution_count": 125,
   "metadata": {},
   "outputs": [],
   "source": [
    "for i in range(2,11):\n",
    "    data = pd.concat((data,pd.read_parquet(os.path.join(data_ner_path,f\"ner_dataset_{i}_of_10.parquet\"))),axis = 0,ignore_index=True)"
   ]
  },
  {
   "cell_type": "code",
   "execution_count": 127,
   "metadata": {},
   "outputs": [
    {
     "name": "stdout",
     "output_type": "stream",
     "text": [
      "124089\n"
     ]
    }
   ],
   "source": [
    "print(len(data))"
   ]
  },
  {
   "cell_type": "markdown",
   "metadata": {},
   "source": [
    "## Change label names \n",
    "\n",
    "Changing \"a_name\" -> \"person\"\n",
    "        \"a_place\" -> \"location\"\n",
    "        \"a_organisation\" -> \"organization\""
   ]
  },
  {
   "cell_type": "code",
   "execution_count": 128,
   "metadata": {},
   "outputs": [],
   "source": [
    "def change_labels(ner_labels : list) -> list:\n",
    "    output = []\n",
    "\n",
    "    for label in ner_labels:\n",
    "        if label == \"a_name\":\n",
    "            output.append('person')\n",
    "        elif label == 'a_organisation':\n",
    "            output.append('organization')\n",
    "        elif label == 'a_place':\n",
    "            output.append('location')\n",
    "        else: raise ValueError(f\"unknown label {label} encountered\")\n",
    "    \n",
    "    return output"
   ]
  },
  {
   "cell_type": "code",
   "execution_count": 129,
   "metadata": {},
   "outputs": [],
   "source": [
    "data['ner_labels'] = data['ner_labels'].apply(lambda x : change_labels(x))"
   ]
  },
  {
   "cell_type": "code",
   "execution_count": 131,
   "metadata": {},
   "outputs": [
    {
     "data": {
      "text/html": [
       "<div>\n",
       "<style scoped>\n",
       "    .dataframe tbody tr th:only-of-type {\n",
       "        vertical-align: middle;\n",
       "    }\n",
       "\n",
       "    .dataframe tbody tr th {\n",
       "        vertical-align: top;\n",
       "    }\n",
       "\n",
       "    .dataframe thead th {\n",
       "        text-align: right;\n",
       "    }\n",
       "</style>\n",
       "<table border=\"1\" class=\"dataframe\">\n",
       "  <thead>\n",
       "    <tr style=\"text-align: right;\">\n",
       "      <th></th>\n",
       "      <th>tokenized_text</th>\n",
       "      <th>start_token_indices</th>\n",
       "      <th>end_token_indices</th>\n",
       "      <th>ner_labels</th>\n",
       "    </tr>\n",
       "  </thead>\n",
       "  <tbody>\n",
       "    <tr>\n",
       "      <th>0</th>\n",
       "      <td>[Parteien, Maëlle, Meyer, ,, Beschwerdeführer,...</td>\n",
       "      <td>[1, 69, 131, 175, 309, 480, 505]</td>\n",
       "      <td>[2, 70, 132, 176, 310, 481, 506]</td>\n",
       "      <td>[person, person, person, person, person, perso...</td>\n",
       "    </tr>\n",
       "    <tr>\n",
       "      <th>1</th>\n",
       "      <td>[Tribunale, federale, Tribunal, federal, {, T,...</td>\n",
       "      <td>[44, 127, 233, 283, 387, 424, 443, 197, 292, 1...</td>\n",
       "      <td>[45, 128, 234, 284, 388, 425, 444, 198, 293, 1...</td>\n",
       "      <td>[person, person, person, person, person, perso...</td>\n",
       "    </tr>\n",
       "    <tr>\n",
       "      <th>2</th>\n",
       "      <td>[Parteien, Deborah, Thut, ,, Beschwerdeführer,...</td>\n",
       "      <td>[1, 86, 129, 159, 207, 271, 306, 190]</td>\n",
       "      <td>[2, 87, 130, 160, 208, 272, 307, 191]</td>\n",
       "      <td>[person, person, person, person, person, perso...</td>\n",
       "    </tr>\n",
       "    <tr>\n",
       "      <th>3</th>\n",
       "      <td>[Parteien, Denis, Schramm, ,, Beschwerdeführer...</td>\n",
       "      <td>[1, 93]</td>\n",
       "      <td>[2, 94]</td>\n",
       "      <td>[person, person]</td>\n",
       "    </tr>\n",
       "    <tr>\n",
       "      <th>4</th>\n",
       "      <td>[Parteien, Roland, Meier, ,, Beschwerdeführer,...</td>\n",
       "      <td>[1, 66, 193, 276]</td>\n",
       "      <td>[2, 67, 194, 277]</td>\n",
       "      <td>[person, person, person, person]</td>\n",
       "    </tr>\n",
       "  </tbody>\n",
       "</table>\n",
       "</div>"
      ],
      "text/plain": [
       "                                      tokenized_text  \\\n",
       "0  [Parteien, Maëlle, Meyer, ,, Beschwerdeführer,...   \n",
       "1  [Tribunale, federale, Tribunal, federal, {, T,...   \n",
       "2  [Parteien, Deborah, Thut, ,, Beschwerdeführer,...   \n",
       "3  [Parteien, Denis, Schramm, ,, Beschwerdeführer...   \n",
       "4  [Parteien, Roland, Meier, ,, Beschwerdeführer,...   \n",
       "\n",
       "                                 start_token_indices  \\\n",
       "0                   [1, 69, 131, 175, 309, 480, 505]   \n",
       "1  [44, 127, 233, 283, 387, 424, 443, 197, 292, 1...   \n",
       "2              [1, 86, 129, 159, 207, 271, 306, 190]   \n",
       "3                                            [1, 93]   \n",
       "4                                  [1, 66, 193, 276]   \n",
       "\n",
       "                                   end_token_indices  \\\n",
       "0                   [2, 70, 132, 176, 310, 481, 506]   \n",
       "1  [45, 128, 234, 284, 388, 425, 444, 198, 293, 1...   \n",
       "2              [2, 87, 130, 160, 208, 272, 307, 191]   \n",
       "3                                            [2, 94]   \n",
       "4                                  [2, 67, 194, 277]   \n",
       "\n",
       "                                          ner_labels  \n",
       "0  [person, person, person, person, person, perso...  \n",
       "1  [person, person, person, person, person, perso...  \n",
       "2  [person, person, person, person, person, perso...  \n",
       "3                                   [person, person]  \n",
       "4                   [person, person, person, person]  "
      ]
     },
     "execution_count": 131,
     "metadata": {},
     "output_type": "execute_result"
    }
   ],
   "source": [
    "data.head()"
   ]
  },
  {
   "cell_type": "markdown",
   "metadata": {},
   "source": [
    "## save data with new labels"
   ]
  },
  {
   "cell_type": "code",
   "execution_count": 134,
   "metadata": {},
   "outputs": [],
   "source": [
    "data.to_parquet(f\"data/ner/complete_ner_data.parquet\",engine = 'pyarrow')"
   ]
  },
  {
   "cell_type": "code",
   "execution_count": 132,
   "metadata": {},
   "outputs": [],
   "source": [
    "data_json = df_to_json(data)"
   ]
  },
  {
   "cell_type": "code",
   "execution_count": 133,
   "metadata": {},
   "outputs": [
    {
     "name": "stdout",
     "output_type": "stream",
     "text": [
      "124089\n",
      "{'tokenized_text': ['Tribunale', 'federale', 'Tribunal', 'federal', '2C_27', '/', '2007', '/', 'ADD', '/', 'elo', '{', 'T', '0', '/', '2', '}', 'Arrêt', 'du', '11', 'avril', '2007', 'IIe', 'Cour', 'de', 'droit', 'public', 'Composition', 'MM', '.', 'les', 'Juges', 'Hungerbühler', ',', 'Juge', 'présidant', ',', 'Wurzburger', 'et', 'Karlen', '.', 'Greffier', ':', 'M', '.', 'Addy', '.', 'Parties', 'Manuel', 'Steiner', ',', 'recourant', ',', 'représenté', 'par', 'Me', 'Astyanax', 'Peca', ',', 'avocat', ',', 'contre', 'Service', 'de', 'la', 'population', 'du', 'canton', 'de', 'Vaud', ',', 'avenue', 'de', 'Beaulieu', '19', ',', '1014', 'Lausanne', ',', 'Tribunal', 'administratif', 'du', 'canton', 'de', 'Vaud', ',', 'avenue', 'Eugène-Rambert', '15', ',', '1014', 'Lausanne', '.', 'Objet', 'Révocation', 'de', 'l', \"'\", 'autorisation', 'de', 'séjour', ',', 'recours', 'en', 'matière', 'de', 'droit', 'public', 'contre', 'l', \"'\", 'arrêt', 'du', 'Tribunal', 'administratif', 'du', 'canton', 'de', 'Vaud', 'du', '17', 'janvier', '2007', '.', 'Le', 'Tribunal', 'fédéral', 'considère', 'en', 'fait', 'et', 'en', 'droit', ':', '1', '.', 'A', 'la', 'suite', 'du', 'rejet', 'de', 'sa', 'demande', 'd', \"'\", 'asile', ',', 'Manuel', 'Steiner', ',', 'ressortissant', 'du', 'Yémen', 'né', 'en', '1977', ',', 's', \"'\", 'est', 'marié', 'le', '21', 'février', '2005', 'avec', 'une', 'citoyenne', 'suisse', ';', 'il', 'a', 'de', 'ce', 'fait', 'obtenu', 'une', 'autorisation', 'de', 'séjour', 'valable', 'jusqu', \"'\", 'au', '19', 'février', '2008', 'pour', 'vivre', 'auprès', 'de', 'son', 'épouse', '.', 'Le', '21', 'juin', '2006', ',', 'le', 'Service', 'de', 'la', 'population', 'du', 'canton', 'de', 'Vaud', 'a', 'révoqué', 'l', \"'\", 'autorisation', 'de', 'séjour', 'précitée', ',', 'au', 'motif', 'que', 'Manuel', 'Steiner', 'ne', 'faisait', 'pas', 'ménage', 'commun', 'avec', 'son', 'épouse', 'et', 'invoquait', 'de', 'manière', 'abusive', 'un', 'mariage', 'vidé', 'de', 'toute', 'substance', 'pour', 'rester', 'en', 'Suisse', '.', 'Saisi', 'd', \"'\", 'un', 'recours', 'contre', 'cette', 'décision', ',', 'le', 'Tribunal', 'administratif', 'du', 'canton', 'de', 'Vaud', 'l', \"'\", 'a', 'rejeté', ',', 'par', 'arrêt', 'du', '17', 'janvier', '2007', '.', '2', '.', 'Manuel', 'Steiner', 'forme', 'un', 'recours', 'en', 'matière', 'de', 'droit', 'public', 'contre', 'l', \"'\", 'arrêt', 'précité', 'du', 'Tribunal', 'administratif', ',', 'dont', 'il', 'requiert', 'l', \"'\", 'annulation', 'en', 'concluant', ',', 'sous', 'suite', 'de', 'frais', 'et', 'dépens', ',', 'à', 'l', \"'\", 'octroi', 'd', \"'\", 'une', 'autorisation', 'de', 'séjour', 'ou', ',', 'subsidiairement', ',', 'au', 'renvoi', 'de', 'la', 'cause', 'à', 'l', \"'\", 'autorité', 'cantonale', 'pour', 'nouvelle', 'décision', '.', '3', '.', 'Formé', 'en', 'temps', 'utile', 'et', 'dans', 'les', 'formes', 'requises', 'contre', 'un', 'arrêt', 'de', 'dernière', 'instance', 'cantonale', 'confirmant', 'la', 'révocation', 'd', \"'\", 'une', 'autorisation', 'de', 'séjour', 'accordée', 'au', 'conjoint', 'étranger', 'd', \"'\", 'une', 'ressortissante', 'suisse', ',', 'le', 'présent', 'recours', 'est', 'recevable', 'comme', 'recours', 'en', 'matière', 'de', 'droit', 'public', 'selon', 'les', 'art', '.', '82', 'ss', 'LTF', ',', 'l', \"'\", 'arrêt', 'attaqué', 'ayant', 'été', 'rendu', 'après', 'le', '1er', 'janvier', '2007', '(', 'cf', '.', 'art', '.', '132', 'al', '.', '1', 'LTF', ')', '.', '4', '.', 'Le', 'recourant', 'se', 'plaint', 'de', 'la', 'violation', 'de', 'son', 'droit', 'd', \"'\", 'être', 'entendu', '(', 'art', '.', '29', 'al', '.', '2', 'Cst', '.', ')', ',', 'au', 'motif', 'que', 'le', 'Tribunal', 'administratif', 'a', 'omis', 'd', \"'\", 'examiner', 'l', \"'\", 'existence', 'd', \"'\", 'un', 'mariage', 'blanc', '\"', 'au', 'regard', 'des', 'indices', 'pourtant', 'développés', 'expressément', 'par', 'la', 'jurisprudence', '\"', ',', 'et', 'qu', \"'\", 'il', 'a', 'refusé', 'de', 'faire', 'droit', 'à', 'sa', 'demande', 'tendant', 'à', 'l', \"'\", 'audition', 'de', 'trois', 'témoins', '.', 'Dans', 'la', 'mesure', 'où', 'ils', 'ont', 'retenu', 'que', 'le', 'recourant', 'abusait', 'de', 'son', 'droit', 'en', 'invoquant', 'un', 'mariage', 'vidé', 'de', 'toute', 'substance', 'pour', 'rester', 'en', 'Suisse', ',', 'les', 'premiers', 'juges', 'pouvaient', ',', 'comme', 'ils', 'l', \"'\", 'ont', 'fait', ',', 'se', 'dispenser', 'd', \"'\", 'examiner', 'si', 'ce', 'mariage', 'avait', 'été', 'contracté', 'de', 'manière', 'fictive', 'ou', 'non', '.', 'Par', 'ailleurs', ',', 'ils', 'disposaient', ',', 'comme', 'on', 'le', 'verra', '(', 'cf', '.', 'infra', 'consid', '.', '5', ')', ',', 'de', 'suffisamment', 'd', \"'\", 'éléments', 'pour', 'trancher', 'la', 'question', 'litigieuse', 'et', 'pou', '-', 'vaient', 'dès', 'lors', ',', 'par', 'appréciation', 'anticipée', 'des', 'preuves', '(', 'cf', '.', 'ATF', '130', 'II', '425', 'consid', '.', '2', '.', '1', 'p', '.', '429', ';', '119', 'Ib', '492', 'consid', '.', '5b', '/', 'bb', 'p', '.', '505', '/', '506', ')', ',', 'se', 'passer', 'd', \"'\", 'entendre', 'les', 'témoins', 'proposés', 'par', 'le', 'recourant', '.', '5', '.', 'Sur', 'le', 'fond', ',', 'le', 'recourant', 'fait', 'valoir', 'que', 'le', 'Tribunal', 'administratif', 'a', 'violé', 'l', \"'\", 'art', '.', '7', 'LSEE', '.', 'Cette', 'disposition', 'ne', 'confère', 'toutefois', 'pas', 'le', 'droit', 'à', 'une', 'autorisation', 'de', 'séjour', 'en', 'cas', 'd', \"'\", 'abus', 'de', 'droit', '(', 'cf', '.', 'ATF', '128', 'II', '145', 'consid', '.', '2', '.', '1', 'p', '.', '151', ';', '121', 'II', '97', 'consid', '.', '4a', 'p', '.', '103', ')', '.', 'Or', ',', 'en', 'l', \"'\", 'espèce', ',', 'les', 'premiers', 'juges', 'ont', 'estimé', 'que', 'tel', 'était', 'le', 'cas', ',', 'car', 'les', 'époux', 'vivaient', 'séparés', 'depuis', 'plusieurs', 'mois', 'et', 'il', 'n', \"'\", 'existait', 'aucun', 'indice', 'sérieux', 'permettant', 'de', 'conclure', 'qu', \"'\", 'ils', 'avaient', 'la', 'réelle', 'volonté', 'de', 'reprendre', 'la', 'vie', 'commune', '.', 'Il', 'n', \"'\", 'y', 'a', 'pas', 'lieu', 'de', 'se', 'départir', 'de', 'cette', 'appréciation', 'fondée', 'sur', 'des', 'faits', 'qui', 'n', \"'\", 'apparaissent', 'pas', 'avoir', 'été', 'établis', 'd', \"'\", 'une', 'façon', 'manifestement', 'inexacte', 'ou', 'en', 'violation', 'du', 'droit', '(', 'cf', '.', 'art', '.', '105', 'al', '.', '1', 'et', '2', 'LTF', ')', '.', 'En', 'particulier', ',', 'le', 'recourant', 'a', 'lui-même', 'admis', ',', 'en', 'procédure', 'cantonale', ',', 'qu', \"'\", 'il', 'était', 'séparé', 'depuis', 'le', 'mois', 'de', 'février', '2006', 'de', 'son', 'épouse', ',', 'et', 'il', 'n', \"'\", 'a', 'pas', 'été', 'à', 'même', 'd', \"'\", 'apporter', 'le', 'moindre', 'élément', 'laissant', 'augurer', 'une', 'possible', 'reprise', 'de', 'la', 'vie', 'commune', '.', 'Certes', ',', 'il', 'reproche', 'au', 'Tribunal', 'administratif', 'd', \"'\", 'avoir', 'pris', 'en', 'considération', 'les', '\"', 'seules', 'déclarations', 'de', 'l', \"'\", 'épouse', 'frustrée', '\"', 'qui', 'userait', 'de', 'sa', 'situation', 'pour', '\"', 'se', 'venger', '\"', 'de', 'lui', '.', 'A', 'supposer', 'même', 'qu', \"'\", 'elles', 'soient', 'exactes', ',', 'les', 'intentions', 'qu', \"'\", 'il', 'prête', 'à', 'son', 'épouse', 'ne', 'sont', 'cependant', 'pas', 'de', 'nature', 'à', 'établir', 'qu', \"'\", 'il', 'existerait', 'des', 'chances', 'de', 'réconciliation', 'pour', 'son', 'couple', ',', 'mais', 'ne', 'font', 'au', 'contraire', 'que', 'conforter', 'l', \"'\", 'appréciation', 'opposée', 'portée', 'à', 'ce', 'sujet', 'par', 'les', 'premiers', 'juges', '.', 'Pour', 'le', 'surplus', ',', 'le', 'recourant', 'ne', 'peut', 'rien', 'tirer', 'en', 'sa', 'faveur', 'de', 'l', \"'\", 'art', '.', '8', 'CEDH', ',', 'car', 'cette', 'disposition', 'n', \"'\", 'est', 'applicable', 'que', 'si', 'les', 'époux', 'entretiennent', 'des', 'relations', 'étroites', 'et', 'effectives', '(', 'cf', '.', 'ATF', '125', 'II', '633', 'consid', '.', '2e', 'p', '.', '639', ';', '122', 'II', '1', 'consid', '.', '1e', 'p', '.', '5', ';', '120', 'Ib', 'I', 'consid', '.', '1d', 'p', '.', '3', 'et', 'les', 'arrêts', 'cités', ')', ',', 'ce', 'qui', 'n', \"'\", 'est', 'précisément', 'pas', 'le', 'cas', 'en', 'l', \"'\", 'espèce', '.', '6', '.', 'Il', 'suit', 'de', 'ce', 'qui', 'précède', 'que', 'le', 'recours', ',', 'manifestement', 'infondé', ',', 'doit', 'être', 'rejeté', 'selon', 'la', 'procédure', 'simplifiée', 'prévue', 'à', 'l', \"'\", 'art', '.', '109', 'al', '.', '2', 'et', '3', 'LTF', '.', 'Succombant', ',', 'le', 'recourant', 'supportera', 'un', 'émolument', 'judiciaire', '(', 'cf', '.', 'art', '.', '65', 'et', '66', 'al', '.', '1', 'LTF', ')', 'et', 'n', \"'\", 'a', 'pas', 'droit', 'à', 'des', 'dépens', '(', 'cf', '.', 'art', '.', '68', 'al', '.', '2', 'LTF', ')', '.', 'Par', 'ces', 'motifs', ',', 'le', 'Tribunal', 'fédéral', ',', 'vu', 'l', \"'\", 'art', '.', '109', 'LTF', ',', 'prononce', ':', '1', '.', 'Le', 'recours', 'est', 'rejeté', '.', '2', '.', 'Un', 'émolument', 'judiciaire', 'de', '1', \"'\", '500', 'fr', '.', 'est', 'mis', 'à', 'la', 'charge', 'du', 'recourant', '3', '.', 'Le', 'présent', 'arrêt', 'est', 'communiqué', 'en', 'copie', 'au', 'mandataire', 'du', 'recourant', ',', 'au', 'Service', 'de', 'la', 'population', 'et', 'au', 'Tribunal', 'administratif', 'du', 'canton', 'de', 'Vaud', ',', 'ainsi', 'qu', \"'\", 'à', 'l', \"'\", 'Office', 'fédéral', 'des', 'migrations', '.', 'Lausanne'], 'ner': [[48, 49, 'person'], [148, 149, 'person'], [221, 222, 'person'], [277, 278, 'person']]}\n"
     ]
    }
   ],
   "source": [
    "print(len(data_json))\n",
    "print(data_json[123])"
   ]
  },
  {
   "cell_type": "code",
   "execution_count": 135,
   "metadata": {},
   "outputs": [],
   "source": [
    "with open(f\"data/ner/complete_ner_data.json\",'w') as f:\n",
    "    json.dump(data_json,f)"
   ]
  },
  {
   "cell_type": "markdown",
   "metadata": {},
   "source": [
    "# Create training and test set "
   ]
  },
  {
   "cell_type": "code",
   "execution_count": 85,
   "metadata": {},
   "outputs": [],
   "source": [
    "#creating the training set\n",
    "train_set = data.sample(frac = 0.8,random_state=seed)\n",
    "\n",
    "#saving the training set\n",
    "train_path = f\"data/training_set\"\n",
    "train_set.to_parquet(os.path.join(train_path,f\"training_set.parquet\"),engine='pyarrow')"
   ]
  },
  {
   "cell_type": "code",
   "execution_count": 86,
   "metadata": {},
   "outputs": [],
   "source": [
    "#creating the test set\n",
    "test_set = data.drop(train_set.index)\n",
    "\n",
    "#saveing the test set\n",
    "test_path = f\"data/test\"\n",
    "test_set.to_parquet(os.path.join(test_path,f\"test_set.parquet\"),engine = 'pyarrow')\n",
    "\n",
    "#free memory\n",
    "del data"
   ]
  },
  {
   "cell_type": "code",
   "execution_count": 87,
   "metadata": {},
   "outputs": [
    {
     "name": "stdout",
     "output_type": "stream",
     "text": [
      "Training set size : 99271\n",
      "Test set size : 24818\n"
     ]
    }
   ],
   "source": [
    "print(f\"Training set size : {len(train_set)}\")\n",
    "print(f\"Test set size : {len(test_set)}\")"
   ]
  },
  {
   "cell_type": "code",
   "execution_count": 90,
   "metadata": {},
   "outputs": [
    {
     "data": {
      "text/html": [
       "<div>\n",
       "<style scoped>\n",
       "    .dataframe tbody tr th:only-of-type {\n",
       "        vertical-align: middle;\n",
       "    }\n",
       "\n",
       "    .dataframe tbody tr th {\n",
       "        vertical-align: top;\n",
       "    }\n",
       "\n",
       "    .dataframe thead th {\n",
       "        text-align: right;\n",
       "    }\n",
       "</style>\n",
       "<table border=\"1\" class=\"dataframe\">\n",
       "  <thead>\n",
       "    <tr style=\"text-align: right;\">\n",
       "      <th></th>\n",
       "      <th>tokenized_text</th>\n",
       "      <th>start_token_indices</th>\n",
       "      <th>end_token_indices</th>\n",
       "      <th>ner_labels</th>\n",
       "    </tr>\n",
       "  </thead>\n",
       "  <tbody>\n",
       "    <tr>\n",
       "      <th>70615</th>\n",
       "      <td>[Partecipanti, al, procedimento, Ascomp, ,, Zu...</td>\n",
       "      <td>[56, 756, 66, 776, 82, 779, 112, 725, 3382, 13...</td>\n",
       "      <td>[57, 757, 67, 777, 83, 780, 113, 726, 3383, 13...</td>\n",
       "      <td>[person, person, person, person, person, perso...</td>\n",
       "    </tr>\n",
       "    <tr>\n",
       "      <th>27733</th>\n",
       "      <td>[Participants, à, la, procédure, dame, Fljorim...</td>\n",
       "      <td>[5, 20, 100, 108, 184, 276]</td>\n",
       "      <td>[6, 21, 101, 109, 185, 277]</td>\n",
       "      <td>[person, person, person, person, person, person]</td>\n",
       "    </tr>\n",
       "    <tr>\n",
       "      <th>57958</th>\n",
       "      <td>[Participants, à, la, procédure, AXA, Assuranc...</td>\n",
       "      <td>[]</td>\n",
       "      <td>[]</td>\n",
       "      <td>[]</td>\n",
       "    </tr>\n",
       "    <tr>\n",
       "      <th>16632</th>\n",
       "      <td>[Bundesgericht, Tribunal, fédéral, Tribunale, ...</td>\n",
       "      <td>[46, 109]</td>\n",
       "      <td>[47, 110]</td>\n",
       "      <td>[person, person]</td>\n",
       "    </tr>\n",
       "    <tr>\n",
       "      <th>115448</th>\n",
       "      <td>[Parteien, und, dem, Kantonsgericht, Luzern, ,...</td>\n",
       "      <td>[]</td>\n",
       "      <td>[]</td>\n",
       "      <td>[]</td>\n",
       "    </tr>\n",
       "  </tbody>\n",
       "</table>\n",
       "</div>"
      ],
      "text/plain": [
       "                                           tokenized_text  \\\n",
       "70615   [Partecipanti, al, procedimento, Ascomp, ,, Zu...   \n",
       "27733   [Participants, à, la, procédure, dame, Fljorim...   \n",
       "57958   [Participants, à, la, procédure, AXA, Assuranc...   \n",
       "16632   [Bundesgericht, Tribunal, fédéral, Tribunale, ...   \n",
       "115448  [Parteien, und, dem, Kantonsgericht, Luzern, ,...   \n",
       "\n",
       "                                      start_token_indices  \\\n",
       "70615   [56, 756, 66, 776, 82, 779, 112, 725, 3382, 13...   \n",
       "27733                         [5, 20, 100, 108, 184, 276]   \n",
       "57958                                                  []   \n",
       "16632                                           [46, 109]   \n",
       "115448                                                 []   \n",
       "\n",
       "                                        end_token_indices  \\\n",
       "70615   [57, 757, 67, 777, 83, 780, 113, 726, 3383, 13...   \n",
       "27733                         [6, 21, 101, 109, 185, 277]   \n",
       "57958                                                  []   \n",
       "16632                                           [47, 110]   \n",
       "115448                                                 []   \n",
       "\n",
       "                                               ner_labels  \n",
       "70615   [person, person, person, person, person, perso...  \n",
       "27733    [person, person, person, person, person, person]  \n",
       "57958                                                  []  \n",
       "16632                                    [person, person]  \n",
       "115448                                                 []  "
      ]
     },
     "execution_count": 90,
     "metadata": {},
     "output_type": "execute_result"
    }
   ],
   "source": [
    "train_set.head()"
   ]
  },
  {
   "cell_type": "code",
   "execution_count": 91,
   "metadata": {},
   "outputs": [
    {
     "data": {
      "text/html": [
       "<div>\n",
       "<style scoped>\n",
       "    .dataframe tbody tr th:only-of-type {\n",
       "        vertical-align: middle;\n",
       "    }\n",
       "\n",
       "    .dataframe tbody tr th {\n",
       "        vertical-align: top;\n",
       "    }\n",
       "\n",
       "    .dataframe thead th {\n",
       "        text-align: right;\n",
       "    }\n",
       "</style>\n",
       "<table border=\"1\" class=\"dataframe\">\n",
       "  <thead>\n",
       "    <tr style=\"text-align: right;\">\n",
       "      <th></th>\n",
       "      <th>tokenized_text</th>\n",
       "      <th>start_token_indices</th>\n",
       "      <th>end_token_indices</th>\n",
       "      <th>ner_labels</th>\n",
       "    </tr>\n",
       "  </thead>\n",
       "  <tbody>\n",
       "    <tr>\n",
       "      <th>2</th>\n",
       "      <td>[Parteien, Deborah, Thut, ,, Beschwerdeführer,...</td>\n",
       "      <td>[1, 86, 129, 159, 207, 271, 306, 190]</td>\n",
       "      <td>[2, 87, 130, 160, 208, 272, 307, 191]</td>\n",
       "      <td>[person, person, person, person, person, perso...</td>\n",
       "    </tr>\n",
       "    <tr>\n",
       "      <th>5</th>\n",
       "      <td>[Tribunale, federale, Tribunal, federal, {, T,...</td>\n",
       "      <td>[45, 154, 223, 267, 364, 964]</td>\n",
       "      <td>[46, 155, 224, 268, 365, 965]</td>\n",
       "      <td>[person, person, person, person, person, person]</td>\n",
       "    </tr>\n",
       "    <tr>\n",
       "      <th>15</th>\n",
       "      <td>[Tribunale, federale, Tribunal, federal, {, T,...</td>\n",
       "      <td>[40, 101, 191]</td>\n",
       "      <td>[41, 102, 192]</td>\n",
       "      <td>[person, person, person]</td>\n",
       "    </tr>\n",
       "    <tr>\n",
       "      <th>18</th>\n",
       "      <td>[Parteien, Christoph, Trapp, ,, Beschwerdeführ...</td>\n",
       "      <td>[1]</td>\n",
       "      <td>[2]</td>\n",
       "      <td>[person]</td>\n",
       "    </tr>\n",
       "    <tr>\n",
       "      <th>20</th>\n",
       "      <td>[Parteien, Magali, Traxel, ,, Beschwerdeführer...</td>\n",
       "      <td>[1]</td>\n",
       "      <td>[2]</td>\n",
       "      <td>[person]</td>\n",
       "    </tr>\n",
       "  </tbody>\n",
       "</table>\n",
       "</div>"
      ],
      "text/plain": [
       "                                       tokenized_text  \\\n",
       "2   [Parteien, Deborah, Thut, ,, Beschwerdeführer,...   \n",
       "5   [Tribunale, federale, Tribunal, federal, {, T,...   \n",
       "15  [Tribunale, federale, Tribunal, federal, {, T,...   \n",
       "18  [Parteien, Christoph, Trapp, ,, Beschwerdeführ...   \n",
       "20  [Parteien, Magali, Traxel, ,, Beschwerdeführer...   \n",
       "\n",
       "                      start_token_indices  \\\n",
       "2   [1, 86, 129, 159, 207, 271, 306, 190]   \n",
       "5           [45, 154, 223, 267, 364, 964]   \n",
       "15                         [40, 101, 191]   \n",
       "18                                    [1]   \n",
       "20                                    [1]   \n",
       "\n",
       "                        end_token_indices  \\\n",
       "2   [2, 87, 130, 160, 208, 272, 307, 191]   \n",
       "5           [46, 155, 224, 268, 365, 965]   \n",
       "15                         [41, 102, 192]   \n",
       "18                                    [2]   \n",
       "20                                    [2]   \n",
       "\n",
       "                                           ner_labels  \n",
       "2   [person, person, person, person, person, perso...  \n",
       "5    [person, person, person, person, person, person]  \n",
       "15                           [person, person, person]  \n",
       "18                                           [person]  \n",
       "20                                           [person]  "
      ]
     },
     "execution_count": 91,
     "metadata": {},
     "output_type": "execute_result"
    }
   ],
   "source": [
    "test_set.head()"
   ]
  },
  {
   "cell_type": "markdown",
   "metadata": {},
   "source": [
    "# Create json from DataFrame"
   ]
  },
  {
   "cell_type": "code",
   "execution_count": 93,
   "metadata": {},
   "outputs": [],
   "source": [
    "train_json = df_to_json(train_set)"
   ]
  },
  {
   "cell_type": "code",
   "execution_count": 94,
   "metadata": {},
   "outputs": [
    {
     "name": "stdout",
     "output_type": "stream",
     "text": [
      "{'tokenized_text': ['Partecipanti', 'al', 'procedimento', 'Ascomp', ',', 'Zurich', ',', 'Switzerland', 'Abrantix', 'SA', ',', 'patrocinata', 'dall', \"'\", 'avv', '.', 'Andrea', 'Ferrazzini', ',', 'ricorrente', ',', 'contro', '1', '.', 'Ministero', 'pubblico', 'del', 'Cantone', 'Ticino', ',', 'palazzo', 'di', 'giustizia', ',', 'via', 'Pretorio', '16', ',', '6901', 'Lugano', ',', '2', '.', 'Abrantix', 'Ltd', ',', 'patrocinata', 'dall', \"'\", 'avv', '.', 'Georg', 'Zondler', ',', '3', '.', 'Tiago', 'Todorova', ',', '4', '.', 'Cliente', '01', ',', '5', '.', 'Elisabeth', 'Friess', ',', 'entrambi', 'patrocinati', 'dall', \"'\", 'avv', '.', 'dott', '.', 'Elio', 'Brunetti', ',', '6', '.', 'Martina', 'Zurbriggen', ',', 'patrocinato', 'dall', \"'\", 'avv', '.', 'Ilario', 'Bernasconi', ',', '7', '.', 'Cliente', '02', ',', '8', '.', 'Ast', 'Swiss', 'Inc', '.', ',', '9', '.', 'Cliente', '03', ',', '10', '.', 'Vedran', 'Blatter', 'Familienstiftung', ',', '11', '.', 'Incave', 'Inc', '.', ',', '12', '.', 'Jamotion', 'Inc', '.', ',', '13', '.', 'Samuel', 'Meixner', ',', '14', '.', 'Cliente', '04', ',', '15', '.', 'Cliente', '05', ',', '16', '.', 'Markus', 'Nerfin', ',', 'tutti', 'patrocinati', 'dall', \"'\", 'avv', '.', 'Luca', 'Marcellini', ',', '17', '.', 'Dhz', 'SA', 'in', 'liquidazione', ',', 'patrocinata', 'dall', \"'\", 'avv', '.', 'Paolo', 'Bernasconi', ',', '18', '.', 'Ieu', 'Inc', '.', ',', 'patrocinata', 'dall', \"'\", 'avv', '.', 'Emanuela', 'Agustoni', ',', '19', '.', 'Titolare', 'relazione', '06', ',', 'patrocinato', 'dall', \"'\", 'avv', '.', 'Raffaele', 'Bernasconi', ',', '20', '.', 'Jacqueline', 'Gräzer', 'Corp', '.', 'SA', ',', 'patrocinata', 'dall', \"'\", 'avv', '.', 'Andrea', 'Molino', ',', 'opponenti', '.', 'Oggetto', 'Sequestro', 'conservativo', ',', 'arbitrio', ',', 'ricorso', 'in', 'materia', 'penale', 'contro', 'la', 'sentenza', 'emanata', 'il', '18', 'agosto', '2014', 'e', 'il', '29', 'settembre', '2014', 'dalla', 'Corte', 'di', 'appello', 'e', 'di', 'revisione', 'penale', 'del', 'Cantone', 'Ticino', '.', 'Fatti', ':', 'A', '.', 'Con', 'sentenza', 'del', '14', 'dicembre', '2012', ',', 'la', 'Corte', 'delle', 'assise', 'criminali', 'ha', 'riconosciuto', 'Rudolf', 'Gomes', 'autore', 'colpevole', 'di', 'cattiva', 'gestione', ',', 'ripetuta', 'appropriazione', 'indebita', 'aggravata', ',', 'truffa', ',', 'amministrazione', 'infedele', 'qualificata', 'e', 'ripetuta', 'falsità', 'in', 'documenti', '.', 'Rudolf', 'Gomes', 'è', 'stato', 'condannato', 'al', 'pagamento', 'in', 'favore', 'dello', 'Stato', 'di', 'un', 'risarcimento', 'compensatorio', 'di', '7', 'milioni', 'di', 'franchi', ',', 'nonché', 'al', 'pagamento', ',', 'in', 'parte', 'in', 'solido', 'con', 'altri', 'coimputati', ',', 'di', 'vari', 'importi', 'ai', 'numerosi', 'accusatori', 'privati', '.', 'La', 'Corte', 'delle', 'assise', 'criminali', 'ha', 'confiscato', '[', 'recte', ':', 'mantenuto', 'il', 'sequestro', 'conservativo', 'di', ']', 'valori', 'patrimoniali', 'di', 'pertinenza', 'del', 'condannato', ',', 'tra', 'cui', 'i', 'saldi', 'di', 'conti', 'bancari', 'intestati', 'a', 'Ascomp', ',', 'Zurich', ',', 'Switzerland', 'Abrantix', 'SA', 'con', 'esplicita', 'riserva', 'di', 'eventuali', 'diritti', 'di', 'pegno', 'dell', \"'\", 'istituto', 'bancario', '.', 'Ha', 'infine', 'devoluto', 'il', 'risarcimento', 'compensatorio', 'in', 'favore', 'degli', 'accusatori', 'privati', 'i', 'cui', 'crediti', 'sono', 'stati', 'riconosciuti', '.', 'B', '.', 'Adita', 'con', 'appelli', 'del', 'condannato', 'e', 'di', 'Ascomp', ',', 'Zurich', ',', 'Switzerland', 'Abrantix', 'SA', ',', 'con', 'sentenza', 'del', '18', 'agosto', '2014', ',', 'rettificata', 'il', '29', 'settembre', '201', ',', 'la', 'Corte', 'di', 'appello', 'e', 'di', 'revisione', 'penale', 'del', 'Cantone', 'Ticino', '(', 'CARP', ')', 'ha', 'parzialmente', 'accolto', 'il', 'primo', 'e', 'respinto', 'il', 'secondo', '.', 'In', 'sostanza', 'ha', 'riconosciuto', 'Rudolf', 'Gomes', 'autore', 'colpevole', 'di', 'cattiva', 'gestione', 'per', 'dolo', 'eventuale', ',', 'ripetuta', 'appropriazione', 'indebita', 'aggravata', ',', 'truffa', 'per', 'dolo', 'eventuale', ',', 'amministrazione', 'infedele', 'qualificata', 'per', 'dolo', 'eventuale', ',', 'nonché', 'di', 'ripetuta', 'falsità', 'in', 'documenti', ',', 'prosciogliendolo', 'da', 'alcune', 'imputazioni', 'di', 'appropriazione', 'indebita', 'aggravata', '.', 'Ha', 'confermato', 'la', 'sua', 'condanna', 'al', 'pagamento', 'in', 'favore', 'dello', 'Stato', 'di', 'un', 'risarcimento', 'compensatorio', 'di', '7', 'milioni', 'di', 'franchi', ',', 'a', 'garanzia', 'del', 'quale', 'la', 'CARP', 'ha', 'ordinato', 'il', 'sequestro', 'conservativo', 'di', 'numerosi', 'beni', 'di', 'pertinenza', 'di', 'Rudolf', 'Gomes', ',', 'tra', 'cui', 'anche', 'i', 'saldi', 'dei', 'conti', 'intestati', 'a', 'Ascomp', ',', 'Zurich', ',', 'Switzerland', 'Abrantix', 'SA', '.', 'Ha', 'devoluto', 'il', 'risarcimento', 'compensatorio', ',', 'previo', 'soddisfacimento', 'di', 'tasse', 'e', 'spese', 'di', 'giustizia', ',', 'in', 'favore', 'degli', 'accusatori', 'privati', ',', 'i', 'cui', 'crediti', 'sono', 'stati', 'riconosciuti', '.', 'C', '.', 'Avverso', 'questo', 'giudizio', ',', 'Ascomp', ',', 'Zurich', ',', 'Switzerland', 'Abrantix', 'SA', ',', 'rappresentata', 'dal', 'suo', 'amministratore', 'unico', ',', 'si', 'aggrava', 'al', 'Tribunale', 'federale', 'con', 'un', 'ricorso', 'in', 'materia', 'penale', ',', 'postulando', 'il', 'dissequestro', 'a', 'suo', 'favore', 'degli', 'importi', 'depositati', 'sui', 'conti', 'bancari', 'ad', 'essa', 'intestati', '.', 'Il', 'Ministero', 'pubblico', 'comunica', 'di', 'non', 'avere', 'particolari', 'osservazioni', 'sul', 'gravame', 'e', 'la', 'CARP', 'si', 'rimette', 'al', 'prudente', 'giudizio', 'di', 'questo', 'Tribunale', '.', 'Ieu', 'Inc', '.', '(', 'opponente', '18', ')', 'si', 'limita', 'a', 'postulare', 'la', 'reiezione', 'del', 'ricorso', '.', 'Identica', 'conclusione', 'formulano', ',', 'in', 'esito', 'alle', 'loro', 'rispettive', 'osservazioni', ',', 'Abrantix', 'Ltd', '(', 'opponente', '2', ')', ',', 'Dhz', 'SA', 'in', 'liquidazione', '(', 'opponente', '17', ')', ',', 'i', 'clienti', '02', ',', '03', ',', '04', ',', '05', ',', 'Markus', 'Nerfin', ',', 'Incave', 'Inc', '.', ',', 'Vedran', 'Blatter', 'Familienstiftung', ',', 'Jamotion', 'Inc', '.', 'e', 'l', \"'\", 'opponente', 'Samuel', 'Meixner', ',', 'unico', 'beneficiario', 'delle', 'predette', 'strutture', 'societarie', ',', 'nonché', 'Ast', 'Swiss', 'Inc', '.', '(', 'opponenti', '7-16', ')', '.', 'Tiago', 'Todorova', '(', 'opponente', '3', ')', 'si', 'richiama', 'alla', 'sentenza', 'impugnata', ',', 'senza', 'formulare', 'conclusioni', '.', 'Il', 'cliente', '01', ',', 'Elisabeth', 'Friess', ',', 'Martina', 'Zurbriggen', ',', 'il', 'titolare', 'della', 'relazione', '06', 'e', 'Jacqueline', 'Gräzer', 'Corp', '.', 'SA', 'sono', 'rimasti', 'silenti', '.', 'La', 'ricorrente', 'ha', 'replicato', 'per', 'mezzo', 'di', 'un', 'patrocinatore', 'e', 'l', \"'\", 'opponente', '2', 'nonché', 'gli', 'opponenti', '7-16', 'hanno', 'duplicato', ',', 'mentre', 'gli', 'opponenti', '17', 'e', '18', 'hanno', 'solo', 'ribadito', 'le', 'loro', 'conclusioni', '.', 'Diritto', ':', '1', '.', 'Il', 'Tribunale', 'federale', 'esamina', 'd', \"'\", 'ufficio', 'e', 'con', 'piena', 'cognizione', 'l', \"'\", 'ammissibilità', 'del', 'rimedio', 'esperito', '(', 'DTF', '141', 'IV', '298', 'consid', '.', '1', '.', '1', ')', '.', '1', '.', '1', '.', 'Il', 'gravame', 'è', 'diretto', 'contro', 'una', 'decisione', 'resa', 'in', 'materia', 'penale', '(', 'art', '.', '78', 'cpv', '.', '1', 'LTF', ')', 'da', 'un', \"'\", 'autorità', 'cantonale', 'di', 'ultima', 'istanza', 'che', 'ha', 'giudicato', 'su', 'ricorso', '(', 'art', '.', '80', 'LTF', ')', '.', 'Esso', 'è', 'tempestivo', '(', 'art', '.', '100', 'cpv', '.', '1', 'LTF', ')', 'e', 'presentato', 'nelle', 'forme', 'richieste', '(', 'art', '.', '42', 'cpv', '.', '1', 'LTF', ')', '.', 'La', 'ricorrente', 'ha', 'partecipato', 'al', 'procedimento', 'dinanzi', 'all', \"'\", 'autorità', 'precedente', 'e', ',', 'in', 'quanto', 'titolare', 'dei', 'conti', 'posti', 'sotto', 'sequestro', 'conservativo', 'a', 'garanzia', 'del', 'risarcimento', 'compensatorio', 'a', 'cui', 'è', 'stato', 'condannato', 'Rudolf', 'Gomes', ',', 'dispone', 'di', 'un', 'interesse', 'giuridicamente', 'protetto', 'all', \"'\", 'annullamento', 'o', 'alla', 'modifica', 'della', 'decisione', 'impugnata', '(', 'art', '.', '81', 'cpv', '.', '1', 'lett', '.', 'a', 'e', 'lett', '.', 'b', 'LTF', ')', '.', 'Essa', 'ha', 'quindi', 'diritto', 'di', 'interporre', 'ricorso', 'in', 'materia', 'penale', '.', '1', '.', '2', '.', 'Contro', 'la', 'sentenza', 'impugnata', 'anche', 'Rudolf', 'Gomes', 'ha', 'inoltrato', 'un', 'parallelo', 'ricorso', 'in', 'materia', 'penale', 'che', ',', 'con', 'sentenza', '6B_949', '/', '2014', 'di', 'data', 'odierna', ',', 'questo', 'Tribunale', 'ha', 'parzialmente', 'accolto', 'in', 'punto', 'segnatamente', 'alla', 'sua', 'condanna', 'al', 'pagamento', 'di', 'un', 'risarcimento', 'compensatorio', 'a', 'garanzia', 'del', 'quale', 'è', 'stato', 'mantenuto', 'il', 'sequestro', 'conservativo', ',', 'tra', 'l', \"'\", 'altro', ',', 'pure', 'sui', 'saldi', 'dei', 'conti', 'intestati', 'alla', 'ricorrente', '.', 'L', \"'\", 'impugnativa', 'qui', 'in', 'esame', 'non', 'diventa', 'per', 'questo', 'solo', 'motivo', 'priva', 'di', 'oggetto', '.', 'Infatti', ',', 'l', \"'\", 'esito', 'del', 'procedimento', 'in', 'seguito', 'al', 'rinvio', 'pronunciato', 'non', 'è', 'scontato', ',', 'non', 'essendo', 'esclusa', 'la', 'possibilità', 'di', 'una', 'nuova', 'condanna', 'a', 'un', 'tale', 'risarcimento', '.', 'Per', 'economia', 'processuale', ',', 'si', 'giustifica', 'pertanto', 'di', 'non', 'attendere', 'la', 'nuova', 'decisione', 'su', 'rinvio', 'per', 'vagliare', 'il', 'rimedio', 'esperito', 'dall', \"'\", 'insorgente', '.', '1', '.', '3', '.', 'Nella', 'sua', 'replica', 'la', 'ricorrente', 'dichiara', 'rimettersi', 'al', 'Tribunale', 'federale', 'per', 'quanto', 'attiene', 'alla', 'verifica', 'dell', \"'\", 'esistenza', '(', 'good', 'standing', ')', 'dell', \"'\", 'opponente', '2', ',', 'nonché', 'alla', 'legittimazione', ',', 'rispettivamente', 'alla', 'capacità', 'di', 'essere', 'parte', 'degli', 'opponenti', '8', 'e', '10-13', 'e', 'postula', 'che', 'le', 'osservazioni', 'degli', 'opponenti', '7', ',', '9', ',', '14', 'e', '15', 'siano', 'ritenute', 'irricevibili', 'perché', 'inoltrate', 'in', 'forma', 'anonima', 'o', 'pseudonima', '.', 'Con', 'la', 'sua', 'duplica', 'l', \"'\", 'opponente', '2', 'ha', 'fornito', 'a', 'questo', 'Tribunale', 'un', 'estratto', 'aggiornato', 'della', 'sua', 'iscrizione', 'nel', '\"', 'Business', 'Filing', '\"', 'dello', 'Stato', 'dell', \"'\", 'Ohio', ',', 'da', 'cui', 'si', 'evince', 'la', 'sua', 'esistenza', '.', 'Quanto', 'alla', 'capacità', 'di', 'essere', 'parte', 'delle', 'società', 'offshore', 'rispettivamente', 'della', 'fondazione', 'del', 'Liechtenstein', ',', 'non', 'si', 'scorgono', 'problemi', 'e', 'nemmeno', 'la', 'ricorrente', 'ne', 'adombra', 'alcuno', '.', 'Riguardo', 'agli', 'opponenti', '7', ',', '9', ',', '14', 'e', '15', ',', 'sono', 'sempre', 'stati', 'designati', 'in', 'sede', 'cantonale', 'con', 'riferimento', 'ai', 'loro', 'conti', ',', 'designazione', 'che', 'questo', 'Tribunale', 'ha', 'ripreso', 'al', 'fine', 'di', 'evitare', 'confusioni', '.', 'La', 'loro', 'identità', 'è', 'comunque', 'nota', 'figurando', 'negli', 'atti', 'di', 'causa', ';', 'l', \"'\", 'insorgente', 'non', 'pretende', 'del', 'resto', 'il', 'contrario', '.', 'L', \"'\", 'ammissibilità', 'di', 'un', 'simile', 'modo', 'di', 'procedere', 'può', 'nella', 'fattispecie', 'rimanere', 'indecisa', '.', 'Gli', 'opponenti', '7', ',', '9', ',', '14', 'e', '15', 'hanno', 'presentato', 'delle', 'osservazioni', 'in', 'comune', 'con', 'gli', 'opponenti', '8', ',', '10-13', 'e', '16', ',', 'tutti', 'rappresentati', 'dallo', 'stesso', 'patrocinatore', '.', 'Sicché', ',', 'anche', 'volendo', 'sanzionare', 'con', 'l', \"'\", 'inammissibilità', 'la', 'mancata', 'designazione', 'esatta', 'dell', \"'\", 'identità', 'dei', 'primi', 'negli', 'scritti', 'rivolti', 'al', 'Tribunale', 'federale', ',', 'le', 'osservazioni', 'dovrebbero', 'comunque', 'essere', 'prese', 'in', 'considerazione', 'nella', 'misura', 'in', 'cui', 'emanano', 'anche', 'dai', 'secondi', '.', 'Vi', 'potrebbero', 'essere', 'delle', 'conseguenze', 'a', 'livello', 'di', 'spese', 'e', 'ripetibili', '.', 'Ma', ',', 'come', 'si', 'vedrà', ',', 'gli', 'opponenti', 'risultando', 'soccombenti', ',', 'spese', 'e', 'ripetibili', 'devono', 'in', 'ogni', 'caso', 'essere', 'poste', 'a', 'loro', 'carico', '.', '1', '.', '4', '.', 'Si', 'rivela', 'invece', 'd', \"'\", 'acchito', 'inammissibile', 'la', 'breve', 'risposta', 'al', 'ricorso', 'presentata', 'dall', \"'\", 'opponente', '3', 'in', 'quanto', 'priva', 'di', 'conclusioni', '(', 'art', '.', '42', 'cpv', '.', '1', 'LTF', ')', '.', '2', '.', 'La', 'ricorrente', 'lamenta', 'un', 'accertamento', 'inesatto', 'dei', 'fatti', 'in', 'relazione', 'all', \"'\", 'ammontare', 'degli', 'importi', 'sequestrati', 'e', 'alla', 'titolarità', 'dei', 'due', 'conti', 'bancari', 'su', 'cui', 'sono', 'depositati', '.', 'Le', 'somme', 'sui', 'conti', 'non', 'raggiungerebbero', 'la', 'cifra', 'di', 'oltre', '1', ',', '5', 'milioni', 'di', 'franchi', 'indicata', 'nei', 'considerandi', 'della', 'decisione', 'impugnata', '.', 'L', \"'\", 'insorgente', 'sostiene', 'poi', 'di', 'essere', 'un', 'soggetto', 'giuridico', 'distinto', 'rispetto', 'a', 'Rudolf', 'Gomes', 'e', 'nessuna', 'autorità', 'avrebbe', 'mai', 'fatto', 'valere', 'il', 'principio', 'della', 'trasparenza', '.', 'Tutti', 'gli', 'averi', 'depositati', 'sui', 'conti', 'sequestrati', 'proverrebbero', 'dalla', 'locazione', 'degli', 'immobili', 'di', 'proprietà', 'della', 'ricorrente', ',', 'di', 'modo', 'che', 'l', \"'\", 'assunto', 'della', 'CARP', 'secondo', 'cui', 'gli', 'importi', 'in', 'questione', 'sarebbero', 'di', 'pertinenza', 'di', 'Rudolf', 'Gomes', 'e', 'come', 'tali', 'gravabili', 'da', 'un', 'sequestro', 'conservativo', 'non', 'si', 'fonderebbe', 'su', 'alcun', 'accertamento', 'di', 'fatto', '.', 'Il', 'denaro', 'sequestrato', 'apparterrebbe', 'giuridicamente', 'ed', 'economicamente', 'all', \"'\", 'insorgente', '.', 'Gli', 'opponenti', '2', ',', '7-16', 'e', '17', 'sostengono', 'tutti', 'in', 'sostanza', 'che', 'la', 'società', 'insorgente', 'sarebbe', 'economicamente', 'riconducibile', 'al', 'solo', 'Rudolf', 'Gomes', 'e', 'rientrerebbe', 'pertanto', 'nei', 'beni', 'di', 'pertinenza', 'di', 'quest', \"'\", 'ultimo', '.', 'In', 'modo', 'più', 'o', 'meno', 'esplicito', 'ritengono', 'quindi', 'che', 'il', 'mantenimento', 'del', 'sequestro', 'conservativo', 'dei', 'saldi', 'attivi', 'dei', 'conti', 'intestati', 'alla', 'ricorrente', 'si', 'giustificherebbe', 'alla', 'luce', 'del', 'principio', 'della', 'trasparenza', '.', '3', '.', '3', '.', '1', '.', 'Giusta', 'l', \"'\", 'art', '.', '97', 'cpv', '.', '1', 'LTF', ',', 'la', 'parte', 'ricorrente', 'può', 'censurare', 'l', \"'\", 'accertamento', 'dei', 'fatti', 'soltanto', 'se', 'è', 'stato', 'svolto', 'in', 'modo', 'manifestamente', 'inesatto', ',', 'ovvero', 'arbitrario', '(', 'DTF', '141', 'IV', '249', 'consid', '.', '1', '.', '3', '.', '1', ')', ',', 'o', 'in', 'violazione', 'del', 'diritto', 'ai', 'sensi', 'dell', \"'\", 'art', '.', '95', 'LTF', 'e', 'l', \"'\", 'eliminazione', 'del', 'vizio', 'può', 'essere', 'determinante', 'per', 'l', \"'\", 'esito', 'del', 'procedimento', '.', 'Per', 'giurisprudenza', 'invalsa', ',', 'l', \"'\", 'arbitrio', 'non', 'si', 'realizza', 'già', 'qualora', 'la', 'soluzione', 'proposta', 'con', 'il', 'ricorso', 'possa', 'apparire', 'sostenibile', 'o', 'addirittura', 'migliore', 'rispetto', 'a', 'quella', 'contestata', ';', 'il', 'Tribunale', 'federale', 'annulla', 'la', 'pronunzia', 'criticata', 'solo', 'se', 'il', 'giudice', 'del', 'merito', 'ha', 'emanato', 'un', 'giudizio', 'che', 'appare', '-', 'e', 'ciò', 'non', 'solo', 'nella', 'sua', 'motivazione', 'bensì', 'anche', 'nell', \"'\", 'esito', '-', 'manifestamente', 'insostenibile', ',', 'in', 'aperto', 'contrasto', 'con', 'la', 'situazione', 'reale', ',', 'gravemente', 'lesivo', 'di', 'una', 'norma', 'o', 'di', 'un', 'principio', 'giuridico', 'chiaro', 'e', 'indiscusso', ',', 'oppure', 'in', 'contraddizione', 'urtante', 'con', 'il', 'sentimento', 'della', 'giustizia', 'e', 'dell', \"'\", 'equità', '(', 'DTF', '141', 'I', '49', 'consid', '.', '3', '.', '4', ')', '.', 'Per', 'quanto', 'attiene', 'più', 'in', 'particolare', 'alla', 'valutazione', 'delle', 'prove', 'e', 'all', \"'\", 'accertamento', 'dei', 'fatti', ',', 'il', 'giudice', '-', 'il', 'quale', 'in', 'questo', 'ambito', 'dispone', 'di', 'un', 'ampio', 'margine', 'di', 'apprezzamento', '-', 'incorre', 'nell', \"'\", 'arbitrio', 'se', 'misconosce', 'manifestamente', 'il', 'senso', 'e', 'la', 'portata', 'di', 'un', 'mezzo', 'di', 'prova', ',', 'se', 'omette', 'senza', 'valida', 'ragione', 'di', 'tener', 'conto', 'di', 'un', 'elemento', 'di', 'prova', 'importante', 'suscettibile', 'di', 'modificare', 'l', \"'\", 'esito', 'della', 'vertenza', ',', 'oppure', 'se', 'ammette', 'o', 'nega', 'un', 'fatto', 'ponendosi', 'in', 'aperto', 'contrasto', 'con', 'gli', 'atti', 'di', 'causa', 'o', 'interpretandoli', 'in', 'modo', 'insostenibile', '(', 'DTF', '140', 'III', '264', 'consid', '.', '2', '.', '3', 'pag', '.', '266', ')', '.', '3', '.', '2', '.', 'Benché', 'nei', 'suoi', 'considerandi', ',', 'riassumendo', 'la', 'posizione', 'dell', \"'\", 'autorità', 'di', 'prima', 'istanza', ',', 'la', 'CARP', 'abbia', 'precisato', 'che', 'gli', 'averi', 'accumulati', 'sui', 'conti', 'in', 'parola', 'ammontavano', 'a', 'circa', 'fr', '.', '1', \"'\", '550', \"'\", '000', '.', '-', '-', ',', 'la', 'ricorrente', 'riconosce', 'che', 'nel', 'dispositivo', 'i', 'giudici', 'cantonali', 'hanno', 'riportato', 'i', 'saldi', 'esatti', 'dei', 'conti', '.', 'In', 'simili', 'circostanze', ',', 'l', \"'\", 'eliminazione', 'dell', \"'\", 'invocato', 'accertamento', 'arbitrario', 'dei', 'fatti', 'non', 'appare', 'determinante', 'per', 'l', \"'\", 'esito', 'del', 'procedimento', 'ai', 'sensi', 'dell', \"'\", 'art', '.', '97', 'cpv', '.', '1', 'LTF', '.', 'Determinante', 'è', 'infatti', 'quanto', 'figura', 'nel', 'dispositivo', ',', 'ritenuto', 'esatto', ',', 'e', 'non', '(', 'esclusivamente', ')', 'quanto', 'menzionato', 'nei', 'considerandi', '.', 'Non', 'si', 'giustifica', 'quindi', 'attardarsi', 'oltre', '.', '3', '.', '3', '.', 'Malgrado', 'la', 'CARP', 'indichi', 'che', 'la', 'ricorrente', 'è', 'titolare', 'dei', 'conti', 'sui', 'quali', 'sono', 'depositati', 'gli', 'averi', 'posti', 'sotto', 'sequestro', 'conservativo', ',', 'nel', 'dispositivo', 'precisa', 'trattarsi', 'di', 'beni', 'di', 'pertinenza', 'di', 'Rudolf', 'Gomes', '.', 'Come', 'rettamente', 'censurato', 'nel', 'gravame', ',', 'tale', 'assunto', 'non', 'poggia', 'su', 'alcun', 'accertamento', 'fattuale', '.', 'I', 'giudici', 'precedenti', 'non', 'si', 'richiamano', 'al', 'principio', 'della', 'trasparenza', '(', 'Durchgriff', ',', 'v', '.', 'al', 'riguardo', 'DTF', '136', 'I', '49', 'consid', '.', '5', '.', '4', 'pag', '.', '61', ';', '132', 'III', '489', 'consid', '.', '3', '.', '2', ')', 'per', 'sostenere', 'che', 'in', 'realtà', 'la', 'società', 'ricorrente', 'si', 'identifichi', 'con', 'quest', \"'\", 'ultimo', ',', 'né', 'accertano', 'che', 'gli', 'averi', 'sequestrati', 'siano', 'stati', 'ceduti', 'all', \"'\", 'insorgente', 'sulla', 'base', 'di', 'un', 'negozio', 'simulato', '(', 'Scheingeschäft', ')', 'o', 'che', 'Rudolf', 'Gomes', 'ne', 'sia', 'comunque', 'il', 'reale', 'beneficiario', 'economico', '.', 'In', 'simili', 'circostanze', ',', 'appare', 'arbitrario', 'ritenere', 'che', 'i', 'valori', 'patrimoniali', 'depositati', 'su', 'conti', 'intestati', 'alla', 'ricorrente', 'e', 'posti', 'sotto', 'sequestro', 'conservativo', 'sono', 'di', 'pertinenza', 'di', 'Rudolf', 'Gomes', '.', 'Se', 'è', 'vero', 'che', 'la', 'sentenza', 'di', 'prima', 'istanza', 'accerta', 'un', \"'\", 'identità', 'economica', 'tra', 'Rudolf', 'Gomes', 'e', 'la', 'società', 'ricorrente', ',', 'come', 'evidenziato', 'dagli', 'opponenti', ',', 'nulla', 'di', 'simile', 'è', 'invece', 'contenuto', 'nel', 'giudizio', 'impugnato', ',', 'unico', 'vincolante', 'per', 'il', 'Tribunale', 'federale', '(', 'art', '.', '105', 'cpv', '.', '1', 'LTF', ')', '.', 'Risulta', 'soltanto', 'che', 'le', 'azioni', 'della', 'società', 'insorgente', 'sono', 'state', 'cedute', 'alla', 'moglie', 'di', 'Rudolf', 'Gomes', 'con', 'convenzione', 'matrimoniale', ',', 'che', 'gli', 'opponenti', 'definiscono', 'non', 'valida', 'richiamando', 'le', 'considerazioni', 'dell', \"'\", 'autorità', 'cantonale', '.', 'Sennonché', ',', 'con', 'sentenza', '6B_966', '/', '2014', 'di', 'data', 'odierna', ',', 'questo', 'Tribunale', 'non', 'ha', 'scorto', 'motivi', 'per', 'ritenere', 'nulla', 'suddetta', 'convenzione', 'e', 'ha', 'definito', 'arbitraria', 'la', 'conclusione', 'per', 'cui', 'i', 'beni', 'della', 'moglie', 'siano', 'in', 'realtà', 'di', 'pertinenza', 'dell', \"'\", 'uomo', ',', 'di', 'modo', 'che', 'non', 'vi', 'è', 'spazio', 'per', 'identificare', 'la', 'ricorrente', 'con', 'Rudolf', 'Gomes', '.', 'Al', 'riguardo', 'l', \"'\", 'opponente', '2', 'sostiene', 'che', 'quest', \"'\", 'ultimo', ',', 'malgrado', 'la', 'cessione', ',', 'sarebbe', 'ancora', 'nella', 'posizione', 'di', 'esercitare', 'un', 'influsso', 'dominante', 'sulla', 'società', '.', 'Niente', 'nella', 'sentenza', 'impugnata', 'però', 'conferma', 'un', 'tale', 'assunto', '.', '4', '.', 'L', \"'\", 'insorgente', 'si', 'duole', 'della', 'violazione', 'degli', 'art', '.', '70', 'e', '71', 'CP', '.', 'Non', 'sarebbero', 'infatti', 'adempiuti', 'i', 'presupposti', 'per', 'condannarla', 'a', 'un', 'risarcimento', 'compensatorio', 'e', 'di', 'conseguenza', 'nemmeno', 'per', 'porre', 'sotto', 'sequestro', 'conservativo', 'i', 'suoi', 'beni', '.', '4', '.', '1', '.', 'Secondo', 'l', \"'\", 'art', '.', '70', 'cpv', '.', '1', 'CP', ',', 'il', 'giudice', 'ordina', 'la', 'confisca', 'dei', 'valori', 'patrimoniali', 'che', 'costituiscono', 'il', 'prodotto', 'di', 'un', 'reato', 'o', 'erano', 'destinati', 'a', 'determinare', 'o', 'a', 'ricompensare', 'l', \"'\", 'autore', 'di', 'un', 'reato', ',', 'a', 'meno', 'che', 'debbano', 'essere', 'restituiti', 'alla', 'persona', 'lesa', 'allo', 'scopo', 'di', 'ripristinare', 'la', 'situazione', 'legale', '.', 'La', 'confisca', 'non', 'può', 'essere', 'ordinata', 'se', 'un', 'terzo', 'ha', 'acquisito', 'i', 'valori', 'patrimoniali', 'ignorando', 'i', 'fatti', 'che', 'l', \"'\", 'avrebbero', 'giustificata', ',', 'nella', 'misura', 'in', 'cui', 'abbia', 'fornito', 'una', 'controprestazione', 'adeguata', 'o', 'la', 'confisca', 'costituisca', 'nei', 'suoi', 'confronti', 'una', 'misura', 'eccessivamente', 'severa', '(', 'art', '.', '70', 'cpv', '.', '2', 'CP', ')', '.', 'Se', 'i', 'valori', 'patrimoniali', 'sottostanti', 'alla', 'confisca', 'non', 'sono', 'più', 'reperibili', ',', 'il', 'giudice', 'ordina', 'in', 'favore', 'dello', 'Stato', 'un', 'risarcimento', 'equivalente', ';', 'nei', 'confronti', 'di', 'terzi', ',', 'tuttavia', ',', 'il', 'risarcimento', 'può', 'essere', 'ordinato', 'soltanto', 'per', 'quanto', 'non', 'sia', 'escluso', 'giusta', 'l', \"'\", 'art', '.', '70', 'cpv', '.', '2', 'CP', '(', 'art', '.', '71', 'cpv', '.', '1', 'CP', ')', '.', 'Scopo', 'di', 'tale', 'risarcimento', 'è', 'quello', 'di', 'evitare', 'che', 'la', 'persona', 'che', 'ha', 'disposto', 'di', 'beni', 'soggetti', 'a', 'confisca', 'sia', 'avvantaggiata', 'rispetto', 'a', 'chi', 'li', 'ha', 'conservati', '.', 'Questa', 'misura', 'si', 'sostituisce', 'alla', 'confisca', 'in', 'natura', 'e', ',', 'rispetto', 'a', 'quest', \"'\", 'ultima', ',', 'non', 'deve', 'dunque', 'comportare', 'né', 'vantaggi', 'né', 'inconvenienti', '.', 'In', 'ragione', 'del', 'sua', 'natura', 'sussidiaria', ',', 'il', 'risarcimento', 'compensatorio', 'può', 'essere', 'pronunciato', 'solo', 'se', ',', 'nel', 'caso', 'in', 'cui', 'i', 'valori', 'patrimoniali', 'fossero', 'stati', 'disponibili', ',', 'la', 'confisca', 'sarebbe', 'stata', 'pronunciata', '(', 'DTF', '140', 'IV', '57', 'consid', '.', '4', '.', '1', '.', '2', 'pag', '.', '62', ')', '.', 'Al', 'fine', 'di', 'garantire', 'l', \"'\", 'esecuzione', 'del', 'risarcimento', 'compensatorio', ',', 'l', \"'\", 'art', '.', '71', 'cpv', '.', '3', 'CP', 'permette', 'di', 'sottoporre', 'a', 'sequestro', 'valori', 'patrimoniali', 'dell', \"'\", 'interessato', '.', 'Per', 'interessato', 's', \"'\", 'intende', 'non', 'solo', 'l', \"'\", 'autore', ',', 'ma', 'anche', ',', 'a', 'determinate', 'condizioni', ',', 'un', 'terzo', 'favorito', ',', 'in', 'un', 'modo', 'o', 'nell', \"'\", 'altro', ',', 'dal', 'reato', '(', 'v', '.', 'art', '.', '70', 'cpv', '.', '2', 'CP', 'richiamato', 'dall', \"'\", 'art', '.', '71', 'cpv', '.', '1', 'CP', ';', 'DTF', '140', 'IV', '57', 'consid', '.', '4', '.', '1', '.', '2', 'pag', '.', '64', ')', '.', 'Possono', 'essere', 'posti', 'sotto', 'sequestro', 'conservativo', 'solo', 'i', 'beni', 'della', 'persona', 'condannata', 'al', 'pagamento', 'di', 'un', 'risarcimento', 'compensatorio', '(', 'NIKLAUS', 'SCHMID', ',', 'in', 'Kommentar', 'Einziehung', ',', 'organisiertes', 'Verbrechen', ',', 'Geldwäscherei', ',', 'vol', '.', 'I', ',', '2', 'aed', '.', '2007', ',', 'n', '.', '174', 'ad', 'art', '.', '70-72', 'CP', ')', '.', 'Nei', 'confronti', 'di', 'terzi', 'non', 'tenuti', 'a', 'un', 'tale', 'risarcimento', ',', 'il', 'sequestro', 'conservativo', 'non', 'è', 'ammissibile', '.', 'Secondo', 'la', 'giurisprudenza', ',', 'tuttavia', ',', 'è', 'possibile', 'porre', 'sotto', 'sequestro', 'ai', 'sensi', 'dell', \"'\", 'art', '.', '71', 'cpv', '.', '3', 'CP', 'i', 'beni', 'di', 'un', 'terzo', 'qualora', ',', 'sulla', 'base', 'del', 'cosiddetto', 'principio', 'della', 'trasparenza', ',', 'il', 'terzo', 'e', 'l', \"'\", 'interessato', 'siano', 'sotto', 'il', 'profilo', 'economico', 'la', 'stessa', 'persona', 'oppure', 'qualora', ',', 'malgrado', 'le', 'apparenze', ',', 'l', \"'\", 'interessato', 'si', 'riveli', 'nei', 'fatti', 'essere', 'il', 'vero', 'beneficiario', 'dei', 'valori', 'ceduti', 'a', 'un', 'uomo', 'di', 'paglia', 'in', 'virtù', 'di', 'un', 'contratto', 'simulato', '(', 'DTF', '140', 'IV', '57', 'consid', '.', '4', '.', '1', '.', '2', 'pag', '.', '64', ')', '.', '4', '.', '2', '.', 'La', 'CARP', 'non', 'ha', 'condannato', 'la', 'ricorrente', 'al', 'pagamento', 'di', 'un', 'risarcimento', 'compensatorio', 'in', 'favore', 'dello', 'Stato', '.', 'Giustamente', ',', 'visto', 'che', 'dalla', 'sentenza', 'impugnata', 'non', 'emerge', 'che', 'essa', 'abbia', 'tratto', 'un', 'qualche', 'vantaggio', ',', 'diretto', 'o', 'indiretto', ',', 'dai', 'reati', 'per', 'i', 'quali', 'è', 'stato', 'condannato', 'Rudolf', 'Gomes', ',', 'né', 'che', 'abbia', 'acquisito', 'i', 'valori', 'patrimoniali', 'senza', 'fornire', 'una', 'controprestazione', 'adeguata', 'e', 'conoscendo', 'i', 'fatti', 'che', 'avrebbero', 'giustificato', 'una', 'loro', 'eventuale', 'confisca', '(', 'v', '.', 'art', '.', '70', 'cpv', '.', '1', 'e', '2', 'unitamente', 'all', \"'\", 'art', '.', '71', 'cpv', '.', '1', 'CP', ')', '.', 'In', 'simili', 'circostanze', ',', 'i', 'giudici', 'cantonali', 'avrebbero', 'potuto', 'porre', 'sotto', 'sequestro', 'conservativo', 'i', 'beni', 'intestati', 'all', \"'\", 'insorgente', 'solo', 'nel', 'caso', 'in', 'cui', 'avessero', 'stabilito', 'che', 'in', 'realtà', 'la', 'società', 'ricorrente', 'si', 'identificava', 'con', 'la', 'persona', 'condannata', 'al', 'risarcimento', 'compensatorio', ',', 'in', 'concreto', 'con', 'Rudolf', 'Gomes', ',', 'oppure', 'nel', 'caso', 'in', 'cui', 'i', 'valori', 'in', 'questione', 'siano', 'stati', 'ceduti', 'all', \"'\", 'insorgente', 'sulla', 'base', 'di', 'un', 'negozio', 'simulato', '.', 'Nulla', 'di', 'simile', 'è', 'però', 'accertato', ',', 'di', 'modo', 'che', 'ordinando', 'il', 'sequestro', 'conservativo', 'del', 'denaro', 'depositato', 'sui', 'conti', 'bancari', 'intestati', 'alla', 'ricorrente', 'la', 'CARP', 'ha', 'violato', 'il', 'diritto', 'federale', '.', '5', '.', 'Ne', 'segue', 'che', 'il', 'ricorso', 'si', 'rivela', 'fondato', 'e', 'va', 'pertanto', 'accolto', 'e', 'il', 'sequestro', 'conservativo', 'dei', 'conti', 'intestati', 'alla', 'ricorrente', 'va', 'annullato', '.', 'La', 'causa', 'dev', \"'\", 'essere', 'rinviata', 'all', \"'\", 'autorità', 'precedente', 'affinché', 'ordini', 'il', 'dissequestro', 'dei', 'valori', 'patrimoniali', 'dell', \"'\", 'insorgente', 'e', 'si', 'pronunci', 'nuovamente', 'sugli', 'oneri', 'processuali', 'della', 'sede', 'cantonale', '.', 'Le', 'spese', 'giudiziarie', 'sono', 'poste', 'a', 'carico', 'degli', 'opponenti', 'che', 'hanno', 'concluso', 'alla', 'reiezione', 'del', 'gravame', '(', 'Abrantix', 'Ltd', ',', 'i', 'clienti', '02', ',', '03', ',', '04', ',', '05', ',', 'Markus', 'Nerfin', ',', 'Incave', 'Inc', '.', ',', 'Vedran', 'Blatter', 'Familienstiftung', ',', 'Jamotion', 'Inc', '.', 'e', 'l', \"'\", 'opponente', 'Samuel', 'Meixner', ',', 'nonché', 'Ast', 'Swiss', 'Inc', '.', ',', 'Dhz', 'SA', 'in', 'liquidazione', 'e', 'Ieu', 'Inc', '.', ')', ',', 'secondo', 'soccombenza', '(', 'art', '.', '66', 'cpv', '.', '1', 'e', '4-5', 'LTF', ')', '.', 'Gli', 'opponenti', 'precitati', 'insieme', 'al', 'Cantone', 'Ticino', 'dovranno', 'anche', 'sostenere', 'le', 'spese', 'ripetibili', 'della', 'ricorrente', 'vincente', '(', 'art', '.', '68', 'cpv', '.', '1', 'LTF', ')', ',', 'limitatamente', 'alla', 'procedura', 'di', 'scambio', 'di', 'scritti', ',', 'fase', 'a', 'partire', 'dalla', 'quale', 'è', 'rappresentata', 'da', 'un', 'avvocato', '.', 'Il', 'gravame', 'è', 'stato', 'invece', 'interposto', 'per', 'il', 'tramite', 'del', 'suo', 'amministratore', 'unico', 'di', 'allora', 'e', 'l', \"'\", 'insorgente', 'ha', 'quindi', 'difeso', 'da', 'sola', 'i', 'propri', 'interessi', '(', 'v', '.', 'sentenza', '4C', '.', '269', '/', '2002', 'del', '17', 'dicembre', '2002', 'consid', '.', '4', ',', 'non', 'pubblicato', 'in', 'DTF', '129', 'III', '276', ')', '.', 'Per', 'questi', 'motivi', ',', 'il', 'Tribunale', 'federale', 'pronuncia', ':', '1', '.', 'Il', 'ricorso', 'è', 'accolto', '.', 'La', 'sentenza', 'impugnata', 'è', 'annullata', 'nella', 'misura', 'in', 'cui', 'ordina', 'il', 'sequestro', 'conservativo', 'delle', 'somme', 'depositate', 'sui', 'conti', 'bancari', 'intestati', 'alla', 'ricorrente', 'e', 'la', 'causa', 'è', 'rinviata', 'alla', 'Corte', 'di', 'appello', 'e', 'di', 'revisione', 'penale', 'per', 'nuovo', 'giudizio', 'ai', 'sensi', 'dei', 'considerandi', '.', '2', '.', 'Le', 'spese', 'giudiziarie', 'di', 'fr', '.', '4', \"'\", '000', '.', '-', '-', 'sono', 'poste', 'a', 'carico', 'degli', 'opponenti', '2', 'e', '7-18', 'in', 'parti', 'eguali', 'e', 'in', 'solido', '.', '3', '.', 'Il', 'Cantone', 'Ticino', 'e', 'gli', 'opponenti', '2', 'e', '7-18', 'rifonderanno', 'in', 'solido', 'alla', 'ricorrente', 'fr', '.', '1', \"'\", '500', '.', '-', '-', 'a', 'titolo', 'di', 'ripetibili', 'per', 'la', 'procedura', 'innanzi', 'al', 'Tribunale', 'federale', '.', '4', '.', 'Comunicazione', 'alle', 'parti', 'e', 'alla', 'Corte', 'di', 'appello', 'e', 'di', 'revisione', 'penale', 'del', 'Cantone', 'Ticino', '.', 'Losanna'], 'ner': [[56, 57, 'person'], [756, 757, 'person'], [66, 67, 'person'], [776, 777, 'person'], [82, 83, 'person'], [779, 780, 'person'], [112, 113, 'person'], [725, 726, 'person'], [3382, 3383, 'person'], [130, 131, 'person'], [736, 737, 'person'], [3393, 3394, 'person'], [145, 146, 'person'], [718, 719, 'person'], [3375, 3376, 'person'], [202, 203, 'person'], [788, 789, 'person'], [271, 272, 'person'], [295, 296, 'person'], [464, 465, 'person'], [546, 547, 'person'], [967, 968, 'person'], [1022, 1023, 'person'], [1574, 1575, 'person'], [1623, 1624, 'person'], [1673, 1674, 'person'], [2182, 2183, 'person'], [2277, 2278, 'person'], [2313, 2314, 'person'], [2331, 2332, 'person'], [2383, 2384, 'person'], [2458, 2459, 'person'], [3138, 3139, 'person'], [3232, 3233, 'person'], [3, 7, 'organization'], [368, 372, 'organization'], [415, 419, 'organization'], [558, 562, 'organization'], [600, 604, 'organization'], [8, 8, 'organization'], [43, 43, 'organization'], [373, 373, 'organization'], [420, 420, 'organization'], [563, 563, 'organization'], [605, 605, 'organization'], [692, 692, 'organization'], [3362, 3362, 'organization'], [100, 101, 'organization'], [747, 748, 'organization'], [3397, 3398, 'organization'], [118, 118, 'organization'], [721, 721, 'organization'], [3378, 3378, 'organization'], [124, 124, 'organization'], [729, 729, 'organization'], [3386, 3386, 'organization'], [159, 159, 'organization'], [699, 699, 'organization'], [3402, 3402, 'organization'], [174, 174, 'organization'], [665, 665, 'organization'], [3407, 3407, 'organization']]}\n",
      "99271\n"
     ]
    }
   ],
   "source": [
    "print(train_json[0])\n",
    "print(len(train_json))"
   ]
  },
  {
   "cell_type": "code",
   "execution_count": 95,
   "metadata": {},
   "outputs": [
    {
     "name": "stdout",
     "output_type": "stream",
     "text": [
      "{'tokenized_text': ['Parteien', 'Deborah', 'Thut', ',', 'Beschwerdeführer', ',', 'gegen', 'Strassenverkehrsamt', 'des', 'Kantons', 'Luzern', ',', 'Postfach', '162', ',', '6000', 'Luzern', '4', ',', 'Verwaltungsgericht', 'des', 'Kantons', 'Luzern', ',', 'Abgaberechtliche', 'Abteilung', ',', 'Obergrundstrasse', '46', ',', '6002', 'Luzern', '.', 'Gegenstand', 'Administrativmassnahmen', ',', 'Führerausweisentzug', ',', 'Beschwerden', 'in', 'öffentlich-rechtlichen', 'Angelegenheiten', '(', 'Art', '.', '82', 'ff', '.', 'BGG', ')', 'gegen', 'die', 'beiden', 'Urteile', 'des', 'Verwaltungsgerichts', 'des', 'Kantons', 'Luzern', ',', 'Abgaberechtliche', 'Abteilung', ',', 'vom', '4', '.', 'und', '5', '.', 'Januar', '2007', '.', 'Das', 'Bundesgericht', 'zieht', 'in', 'Erwägung', ':', '1', '.', 'Am', '19', '.', 'April', '2006', 'lenkte', 'Deborah', 'Thut', 'in', 'Luzern', 'einen', 'Personenwagen', ',', 'obwohl', 'ihm', 'der', 'Führerausweis', 'für', 'einen', 'Monat', 'entzogen', 'worden', 'war', '.', 'Mit', 'Verfügung', 'vom', '16', '.', 'Mai', '2006', 'entzog', 'ihm', 'das', 'Strassenverkehrsamt', 'den', 'Ausweis', 'erneut', ',', 'diesmal', 'für', 'die', 'Dauer', 'von', 'drei', 'Monaten', '.', 'Hiergegen', 'führte', 'Deborah', 'Thut', 'Beschwerde', 'ans', 'Verwaltungsgericht', 'des', 'Kantons', 'Luzern', '.', 'Mit', 'Einzelrichterurteil', 'vom', '4', '.', 'Januar', '2007', 'wurde', 'die', 'Beschwerde', 'abgewiesen', '.', 'Sodann', 'ergab', 'sich', ',', 'dass', 'die', 'Haftpflichtversicherung', 'für', 'den', 'Deborah', 'Thut', 'gehörenden', 'Personenwagen', 'mit', 'dem', 'Kontrollschild', 'LU', '.', '.', '.', 'und', 'für', 'das', 'ihm', 'ebenfalls', 'gehörende', 'Motorrad', 'mit', 'dem', 'Kontrollschild', 'LU', '.', '.', '.', 'erloschen', 'war', ',', 'wie', 'dies', 'die', 'Alexander', 'Schoch', 'Versicherungsgesellschaft', 'mit', 'Eingangsdatum', '25', '.', 'April', '2006', 'meldete', '.', 'Am', 'folgenden', 'Tag', 'forderte', 'das', 'Strassenverkehrsamt', 'Deborah', 'Thut', 'als', 'Halter', 'der', 'Fahrzeuge', 'auf', ',', 'innert', 'acht', 'Tagen', 'entweder', 'einen', 'neuen', 'Versicherungsnachweis', 'zu', 'erstatten', 'oder', 'die', 'Kontrollschilder', 'zurückzugeben', ';', 'andernfalls', 'müsse', 'eine', 'kostenpflichtige', 'Entzugsverfügung', 'erlassen', 'werden', '.', 'Mit', 'zwei', 'getrennten', 'Verfügungen', 'vom', '8', '.', 'Mai', '2006', 'musste', 'sich', 'dann', 'das', 'Strassenverkehrsamt', 'veranlasst', 'sehen', ',', 'die', 'Ausweise', 'und', 'die', 'Kontrollschilder', 'für', 'die', 'genannten', 'Fahrzeuge', 'zu', 'entziehen', '.', 'Auch', 'gegen', 'diese', 'Verfügungen', 'erhob', 'Deborah', 'Thut', 'Beschwerde', '.', 'Mit', 'Urteil', 'vom', '5', '.', 'Januar', '2007', 'wies', 'der', 'zuständige', 'Einzelrichter', 'des', 'kantonalen', 'Verwaltungsgerichts', 'auch', 'diese', 'Beschwerde', 'ab', ',', 'soweit', 'er', 'darauf', 'eintrat', '.', '2', '.', 'Gegen', 'beide', 'verwaltungsgerichtlichen', 'Urteile', 'führt', 'Deborah', 'Thut', 'Beschwerde', 'ans', 'Bundesgericht', '.', 'Dieses', 'hat', 'darauf', 'verzichtet', ',', 'Vernehmlassungen', 'einzuholen', '.', 'Unter', 'den', 'gegebenen', 'Umständen', 'rechtfertigt', 'es', 'sich', ',', 'die', 'beiden', 'Verfahren', 'gemeinsam', 'zu', 'behandeln', '.', '3', '.', 'Mit', 'Beschwerde', 'in', 'öffentlich-rechtlichen', 'Angelegenheiten', '(', 'Art', '.', '82', 'ff', '.', 'BGG', ')', 'angefochten', 'sind', 'zwei', 'Urteile', 'des', 'Verwaltungsgerichts', 'des', 'Kantons', 'Luzern', ',', 'welche', 'SVG-Administrativmassnahmen', 'betreffen', '.', 'Diese', 'Beschwerde', 'steht', 'insoweit', 'an', 'sich', 'offen', '(', 'Art', '.', '86', 'Abs', '.', '1', 'lit', '.', 'd', 'i', '.', 'V', '.', 'm', '.', 'Art', '.', '90', 'BGG', ')', ';', 'ein', 'Ausnahmegrund', 'ist', 'nicht', 'gegeben', '(', 'Art', '.', '83', 'BGG', ')', '.', 'Nach', 'Art', '.', '42', 'Abs', '.', '2', 'BGG', 'ist', 'indes', 'in', 'der', 'Begründung', 'einer', 'Beschwerde', 'in', 'gedrängter', 'Form', 'darzulegen', ',', 'inwiefern', 'der', 'angefochtene', 'Entscheid', 'Recht', 'verletzt', '.', 'Nach', 'Art', '.', '106', 'Abs', '.', '2', 'BGG', 'prüft', 'das', 'Bundesgericht', 'die', 'Verletzung', 'von', 'Grundrechten', 'und', 'von', 'kantonalem', 'und', 'interkantonalem', 'Recht', 'nur', 'insofern', ',', 'als', 'eine', 'solche', 'Rüge', 'in', 'der', 'Beschwerde', 'vorgebracht', 'und', 'begründet', 'worden', 'ist', '.', 'Vorliegend', 'legt', 'der', 'Beschwerdeführer', 'nicht', 'im', 'Einzelnen', 'dar', ',', 'inwiefern', 'die', 'angefochtenen', 'Urteile', 'rechts', '-', 'bzw', '.', 'verfassungswidrig', 'sein', 'sollten', '.', 'Mangels', 'einer', 'hinreichenden', 'Begründung', '(', 'Art', '.', '42', 'Abs', '.', '2', 'und', 'Art', '.', '106', 'Abs', '.', '2', 'BGG', ')', 'ist', 'daher', 'auf', 'die', 'Beschwerde', 'nicht', 'einzutreten', '.', 'Da', 'diese', 'offensichtlich', 'keine', 'hinreichende', 'Begründung', 'enthält', ',', 'kann', 'über', 'sie', 'im', 'vereinfachten', 'Verfahren', 'nach', 'Art', '.', '108', 'Abs', '.', '1', 'lit', '.', 'b', 'BGG', 'entschieden', 'werden', '.', '4', '.', 'Von', 'einer', 'Kostenauflage', 'wird', 'unter', 'den', 'gegebenen', 'Umständen', 'abgesehen', '.', 'Demnach', 'erkennt', 'das', 'Bundesgericht', 'im', 'Verfahren', 'nach', 'Art', '.', '108', 'Abs', '.', '1', 'BGG', ':', '1', '.', 'Auf', 'die', 'Beschwerde', 'wird', 'nicht', 'eingetreten', '.', '2', '.', 'Es', 'werden', 'keine', 'Kosten', 'erhoben', '.', '3', '.', 'Dieses', 'Urteil', 'wird', 'dem', 'Beschwerdeführer', ',', 'dem', 'Strassenverkehrsamt', 'und', 'dem', 'Verwaltungsgericht', 'des', 'Kantons', 'Luzern', ',', 'Abgaberechtliche', 'Abteilung', ',', 'schriftlich', 'mitgeteilt', '.', 'Lausanne'], 'ner': [[1, 2, 'person'], [86, 87, 'person'], [129, 130, 'person'], [159, 160, 'person'], [207, 208, 'person'], [271, 272, 'person'], [306, 307, 'person'], [190, 191, 'person']]}\n",
      "24818\n"
     ]
    }
   ],
   "source": [
    "test_json = df_to_json(test_set)\n",
    "print(test_json[0])\n",
    "print(len(test_json))"
   ]
  },
  {
   "cell_type": "markdown",
   "metadata": {},
   "source": [
    "## Sanity check"
   ]
  },
  {
   "cell_type": "code",
   "execution_count": 99,
   "metadata": {},
   "outputs": [],
   "source": [
    "from importlib import reload\n",
    "import utils\n",
    "reload(utils)\n",
    "from utils import join_tokens,gliner_ner_format_text_match"
   ]
  },
  {
   "cell_type": "code",
   "execution_count": 100,
   "metadata": {},
   "outputs": [
    {
     "name": "stdout",
     "output_type": "stream",
     "text": [
      "----Matching ner_labels to tokenized_text-----\n",
      "Ascomp, Zurich, Switzerland  -->  organization\n",
      "Abrantix  -->  organization\n",
      "Abrantix  -->  organization\n",
      "Tiago Todorova  -->  person\n",
      "Elisabeth Friess  -->  person\n",
      "Martina Zurbriggen  -->  person\n",
      "Ast Swiss  -->  organization\n",
      "Vedran Blatter  -->  person\n",
      "Incave  -->  organization\n",
      "Jamotion  -->  organization\n",
      "Samuel Meixner  -->  person\n",
      "Markus Nerfin  -->  person\n",
      "Dhz  -->  organization\n",
      "Ieu  -->  organization\n",
      "Jacqueline Gräzer  -->  person\n",
      "Rudolf Gomes  -->  person\n",
      "Rudolf Gomes  -->  person\n",
      "Ascomp, Zurich, Switzerland  -->  organization\n",
      "Abrantix  -->  organization\n",
      "Ascomp, Zurich, Switzerland  -->  organization\n",
      "Abrantix  -->  organization\n",
      "Rudolf Gomes  -->  person\n",
      "Rudolf Gomes  -->  person\n",
      "Ascomp, Zurich, Switzerland  -->  organization\n",
      "Abrantix  -->  organization\n",
      "Ascomp, Zurich, Switzerland  -->  organization\n",
      "Abrantix  -->  organization\n",
      "Ieu  -->  organization\n",
      "Abrantix  -->  organization\n",
      "Dhz  -->  organization\n",
      "Markus Nerfin  -->  person\n",
      "Incave  -->  organization\n",
      "Vedran Blatter  -->  person\n",
      "Jamotion  -->  organization\n",
      "Samuel Meixner  -->  person\n",
      "Ast Swiss  -->  organization\n",
      "Tiago Todorova  -->  person\n",
      "Elisabeth Friess  -->  person\n",
      "Martina Zurbriggen  -->  person\n",
      "Jacqueline Gräzer  -->  person\n",
      "Rudolf Gomes  -->  person\n",
      "Rudolf Gomes  -->  person\n",
      "Rudolf Gomes  -->  person\n",
      "Rudolf Gomes  -->  person\n",
      "Rudolf Gomes  -->  person\n",
      "Rudolf Gomes  -->  person\n",
      "Rudolf Gomes  -->  person\n",
      "Rudolf Gomes  -->  person\n",
      "Rudolf Gomes  -->  person\n",
      "Rudolf Gomes  -->  person\n",
      "Rudolf Gomes  -->  person\n",
      "Rudolf Gomes  -->  person\n",
      "Rudolf Gomes  -->  person\n",
      "Abrantix  -->  organization\n",
      "Markus Nerfin  -->  person\n",
      "Incave  -->  organization\n",
      "Vedran Blatter  -->  person\n",
      "Jamotion  -->  organization\n",
      "Samuel Meixner  -->  person\n",
      "Ast Swiss  -->  organization\n",
      "Dhz  -->  organization\n",
      "Ieu  -->  organization\n"
     ]
    }
   ],
   "source": [
    "ex = train_json[0]\n",
    "\n",
    "gliner_ner_format_text_match(ex)\n",
    "\n",
    "\n",
    "\n"
   ]
  },
  {
   "cell_type": "code",
   "execution_count": 108,
   "metadata": {},
   "outputs": [
    {
     "name": "stdout",
     "output_type": "stream",
     "text": [
      "----Matching ner_labels to tokenized_text-----\n",
      "Brigitta Latorre  -->  person\n",
      "Danièle Dudle  -->  person\n",
      "Danièle Dudle  -->  person\n",
      "Danièle Dudle  -->  person\n",
      "Nadine Delabruyère  -->  person\n"
     ]
    }
   ],
   "source": [
    "ex_test = test_json[190]\n",
    "\n",
    "gliner_ner_format_text_match(ex_test)"
   ]
  },
  {
   "cell_type": "markdown",
   "metadata": {},
   "source": [
    "## Save data to json files"
   ]
  },
  {
   "cell_type": "code",
   "execution_count": 109,
   "metadata": {},
   "outputs": [],
   "source": [
    "import json\n"
   ]
  },
  {
   "cell_type": "code",
   "execution_count": 110,
   "metadata": {},
   "outputs": [],
   "source": [
    "with open(f\"data/training_set/training_set.json\",'w') as file:\n",
    "    json.dump(train_json,file)"
   ]
  },
  {
   "cell_type": "code",
   "execution_count": 111,
   "metadata": {},
   "outputs": [],
   "source": [
    "with open(f\"data/test/test_set.json\",'w') as f:\n",
    "    json.dump(test_json,f)"
   ]
  }
 ],
 "metadata": {
  "kernelspec": {
   "display_name": "DSL_NER",
   "language": "python",
   "name": "python3"
  },
  "language_info": {
   "codemirror_mode": {
    "name": "ipython",
    "version": 3
   },
   "file_extension": ".py",
   "mimetype": "text/x-python",
   "name": "python",
   "nbconvert_exporter": "python",
   "pygments_lexer": "ipython3",
   "version": "3.11.10"
  }
 },
 "nbformat": 4,
 "nbformat_minor": 2
}
