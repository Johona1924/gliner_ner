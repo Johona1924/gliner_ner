{
 "cells": [
  {
   "cell_type": "code",
   "execution_count": 13,
   "metadata": {},
   "outputs": [],
   "source": [
    "from transformers import pipeline\n",
    "import json\n",
    "import random\n",
    "import torch\n",
    "\n",
    "from utils import join_tokens,tokenize_text"
   ]
  },
  {
   "cell_type": "code",
   "execution_count": 4,
   "metadata": {},
   "outputs": [],
   "source": [
    "#load data\n",
    "with open(f\"data/ner/complete_ner_data.json\",'r') as f:\n",
    "    data = json.load(f)"
   ]
  },
  {
   "cell_type": "code",
   "execution_count": 8,
   "metadata": {},
   "outputs": [],
   "source": [
    "random.seed(42)\n",
    "data = random.sample(data,100)"
   ]
  },
  {
   "cell_type": "code",
   "execution_count": 11,
   "metadata": {},
   "outputs": [
    {
     "data": {
      "application/vnd.jupyter.widget-view+json": {
       "model_id": "ceb34a0845404976b94c84b57664f50c",
       "version_major": 2,
       "version_minor": 0
      },
      "text/plain": [
       "config.json:   0%|          | 0.00/752 [00:00<?, ?B/s]"
      ]
     },
     "metadata": {},
     "output_type": "display_data"
    },
    {
     "name": "stderr",
     "output_type": "stream",
     "text": [
      "c:\\Users\\jonas\\anaconda3\\envs\\DSL_NER\\Lib\\site-packages\\huggingface_hub\\file_download.py:159: UserWarning: `huggingface_hub` cache-system uses symlinks by default to efficiently store duplicated files but your machine does not support them in C:\\Users\\jonas\\.cache\\huggingface\\hub\\models--rcds--distilbert-SBD-fr-judgements-laws. Caching files will still work but in a degraded version that might require more space on your disk. This warning can be disabled by setting the `HF_HUB_DISABLE_SYMLINKS_WARNING` environment variable. For more details, see https://huggingface.co/docs/huggingface_hub/how-to-cache#limitations.\n",
      "To support symlinks on Windows, you either need to activate Developer Mode or to run Python as an administrator. In order to see activate developer mode, see this article: https://docs.microsoft.com/en-us/windows/apps/get-started/enable-your-device-for-development\n",
      "  warnings.warn(message)\n"
     ]
    },
    {
     "data": {
      "application/vnd.jupyter.widget-view+json": {
       "model_id": "0fa5c0b832974c428b343be61ca88031",
       "version_major": 2,
       "version_minor": 0
      },
      "text/plain": [
       "pytorch_model.bin:   0%|          | 0.00/539M [00:00<?, ?B/s]"
      ]
     },
     "metadata": {},
     "output_type": "display_data"
    },
    {
     "data": {
      "application/vnd.jupyter.widget-view+json": {
       "model_id": "612b78e81cf74628a7c6b0718e50886f",
       "version_major": 2,
       "version_minor": 0
      },
      "text/plain": [
       "tokenizer_config.json:   0%|          | 0.00/372 [00:00<?, ?B/s]"
      ]
     },
     "metadata": {},
     "output_type": "display_data"
    },
    {
     "data": {
      "application/vnd.jupyter.widget-view+json": {
       "model_id": "f5e55d2be2e445ecbb1b1348b3365e61",
       "version_major": 2,
       "version_minor": 0
      },
      "text/plain": [
       "vocab.txt:   0%|          | 0.00/996k [00:00<?, ?B/s]"
      ]
     },
     "metadata": {},
     "output_type": "display_data"
    },
    {
     "data": {
      "application/vnd.jupyter.widget-view+json": {
       "model_id": "a574ac3ccfe44c0ead5ceb6763f6a0d9",
       "version_major": 2,
       "version_minor": 0
      },
      "text/plain": [
       "tokenizer.json:   0%|          | 0.00/2.92M [00:00<?, ?B/s]"
      ]
     },
     "metadata": {},
     "output_type": "display_data"
    },
    {
     "data": {
      "application/vnd.jupyter.widget-view+json": {
       "model_id": "3bd5a7d0f3654113bed6612238d11d48",
       "version_major": 2,
       "version_minor": 0
      },
      "text/plain": [
       "special_tokens_map.json:   0%|          | 0.00/125 [00:00<?, ?B/s]"
      ]
     },
     "metadata": {},
     "output_type": "display_data"
    }
   ],
   "source": [
    "pipe = pipeline(\n",
    "  'token-classification',\n",
    "  model= 'rcds/distilbert-SBD-fr-judgements-laws', #HuggingFace URL e.g. rcds/distilbert-SBD-fr-judgements-laws\n",
    "  aggregation_strategy=\"simple\",  # none, simple, first, average, max\n",
    "  device = 'cpu',\n",
    "  torch_dtype=torch.float16\n",
    ")"
   ]
  },
  {
   "cell_type": "code",
   "execution_count": 43,
   "metadata": {},
   "outputs": [
    {
     "name": "stdout",
     "output_type": "stream",
     "text": [
      "Bundesgericht Tribunal fédéral Tribunale federale Tribunal federal { T 0 / 2 } 6B_935 / 2008 / rod Arrêt du 16 décembre 2008 Cour de droit pénal Composition M. le Juge Schneider, Président. Greffier: M. Oulevey. Parties Dario Prelle, recourant, contre Ministère public du canton de Neuchâtel, case postale 2672, 2001 Neuchâtel 1, intimé. Objet Infraction à la LCR, recours contre l ' arrêt de la Cour de cassation pénale du Tribunal cantonal du canton de Neuchâtel du 20 octobre 2008. Faits: A. Par un arrêt du 20 octobre 2008, la Cour de cassation pénale du Tribunal cantonal du canton de Neuchâtel a rejeté le pourvoi formé par Dario Prelle contre un jugement du Tribunal de police du district du Locle qui le condamnait, pour conduite malgré un retrait du permis de conduire et contravention aux règles de la circulation, à quarante-cinq jours-amende de 20 fr., ferme, et à 100 fr. d ' amende, substituables par un jour de privation de liberté en cas de non paiement fautif. B. Dario Prelle recourt au Tribunal fédéral contre cet arrêt, dont il demande la réforme en ce sens qu ' il soit acquitté. Il se plaint exclusivement d ' appréciation arbitraire des preuves. Considérant en droit: 1. En vertu de l ' art. 42 al. 1 et 2 LTF, le recourant doit, à peine d ' irrecevabilité ( art. 108 al. 1 let. b et 117 LTF ), motiver son recours en exposant succinctement en quoi la décision attaquée viole le droit. Pour ce faire, il doit en principe se fonder sur les faits retenus par le juge précédent ( cf. art. 97 LTF ). Il ne peut s ' en écarter que s ' il explique de manière circonstanciée en quoi ceux-ci ont été établis en violation du droit, au sens des art. 95 et 96 LTF, ou de façon manifestement inexacte, c ' est-à-dire arbitraire ( cf. arrêt 6B_178 / 2007 du 23 juillet 2007 consid. 1. 2, non publié in ATF 133 IV 286 ). Lorsque la décision attaquée comporte plusieurs motivations indépendantes et suffisantes à sceller le sort du grief, il incombe au recourant, sous peine d ' irrecevabilité, de démontrer que chacune d ' elles est contraire au droit ( ATF 133 IV 119 consid. 6. 3 p. 120 s. ). Si le juge du fait a motivé son appréciation des preuves par deux raisonnements indépendants, le recourant doit, pareillement, exposer en quoi chacun d ' eux est arbitraire. À ce défaut, son grief est irrecevable. En l ' espèce, la cour cantonale a rejeté le grief d ' arbitraire qui lui était soumis pour plusieurs motifs, distincts et indépendants. D ' une part, en effet, elle a considéré qu ' il n ' y avait rien d ' arbitraire à ajouter foi aux déclarations de gardes-frontière assermentés, malgré la déposition contraire d ' un témoin employé par le recourant, et que les accusations de ressentiment antipolonais formulées par le recourant contre l ' un de ces gardes-frontière étaient sans le moindre fondement. D ' autre part, elle a rappelé que le recourant avait admis être le conducteur dans ses premières déclarations et qu ' en présence de deux versions des faits contradictoires du prévenu, il fallait en principe accorder la préférence à la première, généralement donnée avant que l ' intéressé n ' en connaisse les conséquences juridiques. Le recourant ne formule aucun grief contre ce dernier motif, que la cour cantonale a manifestement tenu pour décisif à lui seul ( vu l ' emploi des termes \" au surplus \" ). Le recours, insuffisamment motivé, doit dès lors être écarté en application de l ' art. 108 al. 1 let. b LTF. 2. Le recourant qui succombe, doit supporter les frais de justice ( art. 66 al. 1 LTF ), réduits en principe à 800 fr. lorsque l ' arrêt est rendu par un juge unique. Par ces motifs, le Président prononce: 1. Le recours est irrecevable. 2. Les frais judiciaires, arrêtés à 800 fr., sont mis à la charge du recourant. 3. Le présent arrêt est communiqué aux parties et à la Cour de cassation pénale du Tribunal cantonal du canton de Neuchâtel. Lausanne\n"
     ]
    }
   ],
   "source": [
    "text_fr = join_tokens(data[1]['tokenized_text'])\n",
    "print(text_fr)"
   ]
  },
  {
   "cell_type": "code",
   "execution_count": 49,
   "metadata": {},
   "outputs": [
    {
     "data": {
      "text/plain": [
       "'Participants à la procédure Anastasia Sarraj, France, recourant, contre Caisse nationale suisse d \\' assurance en cas d \\' accidents, Fluhmattstrasse 1, 6004 Lucerne, intimée. Objet Assurance-accidents ( condition de recevabilité ), recours contre le jugement de la Cour de justice de la République et canton de Genève, Chambre des assurances sociales, du 9 mars 2015. Vu: le jugement du 9 mars 2015 ( cause ATAS / 177 / 2015 ) opposant Anastasia Sarraj à la Caisse nationale suisse d \\' assurance en cas d \\' accidents ( CNA ), par lequel la Chambre des assurances de la Cour de Justice de la République et canton de Genève a déclaré irrecevable le recours formé par le prénommé en date du 1er juillet 2014 et rejeté en tant que besoin le recours pour déni de justice, en invitant le recourant à s \\' adresser à la CNA, le recours du 8 avril 2015 ( date du timbre postal ) interjeté par Anastasia Sarraj contre ce jugement, considérant: que selon l \\' art. 108 al. 1 let. b LTF, le président de la cour décide en procédure simplifiée de ne pas entrer en matière sur les recours dont la motivation est manifestement insuffisante ( art. 42 al. 2 LTF ), qu \\' il peut confier cette tâche à un autre juge ( art. 108 al. 2 LTF ), que les mémoires doivent indiquer les conclusions, les motifs et les moyens de preuve ( art. 42 al. 1 LTF ), que les motifs doivent exposer succinctement en quoi l \\' acte attaqué viole le droit ( art. 42 al. 2, première phrase LTF ), que la partie recourante doit notamment fournir une motivation topique répondant aux motifs retenus par la juridiction précédente, qu \\' en l \\' occurrence, l \\' acte de recours et ses annexes ne contiennent aucune motivation ni conclusions, le recourant se contentant de renvoyer le Tribunal fédéral à \" demander tous les rapports médicaux à la [ CNA ] pour avoir tous les renseignements nécessaires suite à mes accidents \", que ce faisant, le recourant ne satisfait pas aux exigences de recevabilité de l \\' art. 42 LTF, que son recours doit par conséquent être déclaré irrecevable, qu \\' au vu des circonstances, il convient de renoncer à la perception de frais judiciaires ( art. 66 al. 1, deuxième phrase, LTF ), par ces motifs, le Juge unique prononce: 1. Le recours est irrecevable. 2. Il n \\' est pas perçu de frais judiciaires. 3. Le présent arrêt est communiqué aux parties, à la Cour de justice de la République et canton de Genève, Chambre des assurances sociales, et à l \\' Office fédéral de la santé publique. Lucerne, le 28 avril 2015 Au nom de la Ire Cour de droit social du Tribunal fédéral suisse Le Juge unique: Frésard La Greffière: von Zwehl'"
      ]
     },
     "execution_count": 49,
     "metadata": {},
     "output_type": "execute_result"
    }
   ],
   "source": [
    "join_tokens(data[45]['tokenized_text'])"
   ]
  },
  {
   "cell_type": "code",
   "execution_count": null,
   "metadata": {},
   "outputs": [
    {
     "name": "stdout",
     "output_type": "stream",
     "text": [
      "[{'entity_group': 'Sentence', 'score': 0.9976226, 'word': 'Bundesgericht Tribunal fédéral Tribunale federale Tribunal federal { T 0 / 2 } 6B _ 935 / 2008 / rod Arrêt du 16 décembre 2008 Cour de droit pénal Composition M. le Juge Schneider, Président. Greffier : M. Oulevey.', 'start': 0, 'end': 211}, {'entity_group': 'Sentence', 'score': 0.9992167, 'word': 'Parties Dario Prelle, recourant, contre Ministère public du canton de Neuchâtel, case postale 2672, 2001 Neuchâtel 1, intimé.', 'start': 212, 'end': 337}, {'entity_group': 'Sentence', 'score': 0.99903077, 'word': \"Objet Infraction à la LCR, recours contre l ' arrêt de la Cour de cassation pénale du Tribunal cantonal du canton de Neuchâtel du 20 octobre 2008.\", 'start': 338, 'end': 484}, {'entity_group': 'Sentence', 'score': 0.99697703, 'word': 'Faits :', 'start': 485, 'end': 491}, {'entity_group': 'Sentence', 'score': 0.9993583, 'word': \"A. Par un arrêt du 20 octobre 2008, la Cour de cassation pénale du Tribunal cantonal du canton de Neuchâtel a rejeté le pourvoi formé par Dario Prelle contre un jugement du Tribunal de police du district du Locle qui le condamnait, pour conduite malgré un retrait du permis de conduire et contravention aux règles de la circulation, à quarante - cinq jours - amende de 20 fr., ferme, et à 100 fr. d ' amende, substituables par un jour de privation de liberté en cas de non paiement fautif.\", 'start': 492, 'end': 977}, {'entity_group': 'Sentence', 'score': 0.9993961, 'word': \"B. Dario Prelle recourt au Tribunal fédéral contre cet arrêt, dont il demande la réforme en ce sens qu ' il soit acquitté.\", 'start': 978, 'end': 1100}, {'entity_group': 'Sentence', 'score': 0.9996479, 'word': \"Il se plaint exclusivement d ' appréciation arbitraire des preuves.\", 'start': 1101, 'end': 1168}, {'entity_group': 'Sentence', 'score': 0.9918111, 'word': 'Considérant en droit :', 'start': 1169, 'end': 1190}, {'entity_group': 'Sentence', 'score': 0.9809879, 'word': '1.', 'start': 1191, 'end': 1193}, {'entity_group': 'Sentence', 'score': 0.9936388, 'word': \"En vertu de l ' art. 42 al. 1 et 2 LTF, le recourant doit, à peine d ' irrecevabilité ( art. 108 al. 1 let. b et 117 LTF ), motiver son recours en exposant succinctement en quoi la décision attaquée viole le droit.\", 'start': 1194, 'end': 1408}, {'entity_group': 'Sentence', 'score': 0.999689, 'word': 'Pour ce faire, il doit en principe se fonder sur les faits retenus par le juge précédent ( cf. art. 97 LTF ).', 'start': 1409, 'end': 1518}, {'entity_group': 'Sentence', 'score': 0.99987173, 'word': \"Il ne peut s ' en écarter que s ' il explique de manière circonstanciée en quoi ceux - ci ont été établis en violation du droit, au sens des art. 95 et 96 LTF, ou de façon manifestement inexacte, c ' est - à - dire arbitraire ( cf. arrêt 6B _ 178 / 2007 du 23 juillet 2007 consid. 1. 2, non publié in ATF 133 IV 286 ).\", 'start': 1519, 'end': 1829}, {'entity_group': 'Sentence', 'score': 0.99807334, 'word': 'Lorsque la décision attaquée comporte plusieurs', 'start': 1830, 'end': 1877}]\n"
     ]
    }
   ],
   "source": [
    "sentences = pipe(text_fr)"
   ]
  },
  {
   "cell_type": "code",
   "execution_count": 31,
   "metadata": {},
   "outputs": [],
   "source": [
    "def view_sentences(output):\n",
    "    for item in output:\n",
    "        print('Sentence : ',item['word'])"
   ]
  },
  {
   "cell_type": "code",
   "execution_count": 37,
   "metadata": {},
   "outputs": [],
   "source": [
    "def count_length(output):\n",
    "    length = 0\n",
    "    for item in output:\n",
    "        length += len(item['word'])\n",
    "    return length"
   ]
  },
  {
   "cell_type": "code",
   "execution_count": 35,
   "metadata": {},
   "outputs": [
    {
     "name": "stdout",
     "output_type": "stream",
     "text": [
      "Sentence :  Bundesgericht Tribunal fédéral Tribunale federale Tribunal federal { T 0 / 2 } 6B _ 935 / 2008 / rod Arrêt du 16 décembre 2008 Cour de droit pénal Composition M. le Juge Schneider, Président. Greffier : M. Oulevey.\n",
      "Sentence :  Parties Dario Prelle, recourant, contre Ministère public du canton de Neuchâtel, case postale 2672, 2001 Neuchâtel 1, intimé.\n",
      "Sentence :  Objet Infraction à la LCR, recours contre l ' arrêt de la Cour de cassation pénale du Tribunal cantonal du canton de Neuchâtel du 20 octobre 2008.\n",
      "Sentence :  Faits :\n",
      "Sentence :  A. Par un arrêt du 20 octobre 2008, la Cour de cassation pénale du Tribunal cantonal du canton de Neuchâtel a rejeté le pourvoi formé par Dario Prelle contre un jugement du Tribunal de police du district du Locle qui le condamnait, pour conduite malgré un retrait du permis de conduire et contravention aux règles de la circulation, à quarante - cinq jours - amende de 20 fr., ferme, et à 100 fr. d ' amende, substituables par un jour de privation de liberté en cas de non paiement fautif.\n",
      "Sentence :  B. Dario Prelle recourt au Tribunal fédéral contre cet arrêt, dont il demande la réforme en ce sens qu ' il soit acquitté.\n",
      "Sentence :  Il se plaint exclusivement d ' appréciation arbitraire des preuves.\n",
      "Sentence :  Considérant en droit :\n",
      "Sentence :  1.\n",
      "Sentence :  En vertu de l ' art. 42 al. 1 et 2 LTF, le recourant doit, à peine d ' irrecevabilité ( art. 108 al. 1 let. b et 117 LTF ), motiver son recours en exposant succinctement en quoi la décision attaquée viole le droit.\n",
      "Sentence :  Pour ce faire, il doit en principe se fonder sur les faits retenus par le juge précédent ( cf. art. 97 LTF ).\n",
      "Sentence :  Il ne peut s ' en écarter que s ' il explique de manière circonstanciée en quoi ceux - ci ont été établis en violation du droit, au sens des art. 95 et 96 LTF, ou de façon manifestement inexacte, c ' est - à - dire arbitraire ( cf. arrêt 6B _ 178 / 2007 du 23 juillet 2007 consid. 1. 2, non publié in ATF 133 IV 286 ).\n",
      "Sentence :  Lorsque la décision attaquée comporte plusieurs\n"
     ]
    }
   ],
   "source": [
    "view_sentences(sentences)"
   ]
  },
  {
   "cell_type": "code",
   "execution_count": 40,
   "metadata": {},
   "outputs": [
    {
     "data": {
      "text/plain": [
       "1882"
      ]
     },
     "execution_count": 40,
     "metadata": {},
     "output_type": "execute_result"
    }
   ],
   "source": [
    "count_length(sentences)"
   ]
  },
  {
   "cell_type": "code",
   "execution_count": 28,
   "metadata": {},
   "outputs": [
    {
     "data": {
      "text/plain": [
       "'Bundesgericht Tribunal fédéral Tribunale federale Tribunal federal { T 0 / 2 } 6B_935 / 2008 / rod Arrêt du 16 décembre 2008 Cour de droit pénal Composition M. le Juge Schneider, Président. Greffier: M. Oulevey. Parties Dario Prelle, recourant, contre Ministère public du canton de Neuchâtel, case postale 2672, 2001 Neuchâtel 1, intimé. Objet Infraction à la LCR, recours contre l \\' arrêt de la Cour de cassation pénale du Tribunal cantonal du canton de Neuchâtel du 20 octobre 2008. Faits: A. Par un arrêt du 20 octobre 2008, la Cour de cassation pénale du Tribunal cantonal du canton de Neuchâtel a rejeté le pourvoi formé par Dario Prelle contre un jugement du Tribunal de police du district du Locle qui le condamnait, pour conduite malgré un retrait du permis de conduire et contravention aux règles de la circulation, à quarante-cinq jours-amende de 20 fr., ferme, et à 100 fr. d \\' amende, substituables par un jour de privation de liberté en cas de non paiement fautif. B. Dario Prelle recourt au Tribunal fédéral contre cet arrêt, dont il demande la réforme en ce sens qu \\' il soit acquitté. Il se plaint exclusivement d \\' appréciation arbitraire des preuves. Considérant en droit: 1. En vertu de l \\' art. 42 al. 1 et 2 LTF, le recourant doit, à peine d \\' irrecevabilité ( art. 108 al. 1 let. b et 117 LTF ), motiver son recours en exposant succinctement en quoi la décision attaquée viole le droit. Pour ce faire, il doit en principe se fonder sur les faits retenus par le juge précédent ( cf. art. 97 LTF ). Il ne peut s \\' en écarter que s \\' il explique de manière circonstanciée en quoi ceux-ci ont été établis en violation du droit, au sens des art. 95 et 96 LTF, ou de façon manifestement inexacte, c \\' est-à-dire arbitraire ( cf. arrêt 6B_178 / 2007 du 23 juillet 2007 consid. 1. 2, non publié in ATF 133 IV 286 ). Lorsque la décision attaquée comporte plusieurs motivations indépendantes et suffisantes à sceller le sort du grief, il incombe au recourant, sous peine d \\' irrecevabilité, de démontrer que chacune d \\' elles est contraire au droit ( ATF 133 IV 119 consid. 6. 3 p. 120 s. ). Si le juge du fait a motivé son appréciation des preuves par deux raisonnements indépendants, le recourant doit, pareillement, exposer en quoi chacun d \\' eux est arbitraire. À ce défaut, son grief est irrecevable. En l \\' espèce, la cour cantonale a rejeté le grief d \\' arbitraire qui lui était soumis pour plusieurs motifs, distincts et indépendants. D \\' une part, en effet, elle a considéré qu \\' il n \\' y avait rien d \\' arbitraire à ajouter foi aux déclarations de gardes-frontière assermentés, malgré la déposition contraire d \\' un témoin employé par le recourant, et que les accusations de ressentiment antipolonais formulées par le recourant contre l \\' un de ces gardes-frontière étaient sans le moindre fondement. D \\' autre part, elle a rappelé que le recourant avait admis être le conducteur dans ses premières déclarations et qu \\' en présence de deux versions des faits contradictoires du prévenu, il fallait en principe accorder la préférence à la première, généralement donnée avant que l \\' intéressé n \\' en connaisse les conséquences juridiques. Le recourant ne formule aucun grief contre ce dernier motif, que la cour cantonale a manifestement tenu pour décisif à lui seul ( vu l \\' emploi des termes \" au surplus \" ). Le recours, insuffisamment motivé, doit dès lors être écarté en application de l \\' art. 108 al. 1 let. b LTF. 2. Le recourant qui succombe, doit supporter les frais de justice ( art. 66 al. 1 LTF ), réduits en principe à 800 fr. lorsque l \\' arrêt est rendu par un juge unique. Par ces motifs, le Président prononce: 1. Le recours est irrecevable. 2. Les frais judiciaires, arrêtés à 800 fr., sont mis à la charge du recourant. 3. Le présent arrêt est communiqué aux parties et à la Cour de cassation pénale du Tribunal cantonal du canton de Neuchâtel. Lausanne'"
      ]
     },
     "execution_count": 28,
     "metadata": {},
     "output_type": "execute_result"
    }
   ],
   "source": [
    "text_fr"
   ]
  },
  {
   "cell_type": "code",
   "execution_count": 42,
   "metadata": {},
   "outputs": [
    {
     "name": "stdout",
     "output_type": "stream",
     "text": [
      "358\n"
     ]
    }
   ],
   "source": [
    "second_part = text_fr[1877:]\n",
    "\n",
    "print(len(second_part.split()))"
   ]
  },
  {
   "cell_type": "code",
   "execution_count": 30,
   "metadata": {},
   "outputs": [],
   "source": [
    "sentences_2 = pipe(second_part)"
   ]
  },
  {
   "cell_type": "code",
   "execution_count": 32,
   "metadata": {},
   "outputs": [
    {
     "name": "stdout",
     "output_type": "stream",
     "text": [
      "Sentence :  motivations indépendantes et suffisantes à sceller le sort du grief, il incombe au recourant, sous peine d ' irrecevabilité, de démontrer que chacune d ' elles est contraire au droit ( ATF 133 IV 119 consid. 6. 3 p. 120 s. ).\n",
      "Sentence :  Si le juge du fait a motivé son appréciation des preuves par deux raisonnements indépendants, le recourant doit, pareillement, exposer en quoi chacun d ' eux est arbitraire.\n",
      "Sentence :  À ce défaut, son grief est irrecevable.\n",
      "Sentence :  En l ' espèce, la cour cantonale a rejeté le grief d ' arbitraire qui lui était soumis pour plusieurs motifs, distincts et indépendants.\n",
      "Sentence :  D ' une part, en effet, elle a considéré qu ' il n ' y avait rien d ' arbitraire à ajouter foi aux déclarations de gardes - frontière assermentés, malgré la déposition contraire d ' un témoin employé par le recourant, et que les accusations de ressentiment antipolonais formulées par le recourant contre l ' un de ces gardes - frontière étaient sans le moindre fondement.\n",
      "Sentence :  D ' autre part, elle a rappelé que le recourant avait admis être le conducteur dans ses premières déclarations et qu ' en présence de deux versions des faits contradictoires du prévenu, il fallait en principe accorder la préférence à la première, généralement donnée avant que l ' intéressé n ' en connaisse les conséquences juridiques.\n",
      "Sentence :  Le recourant ne formule aucun grief contre ce dernier motif, que la cour cantonale a manifestement tenu pour décisif à lui seul ( vu l ' emploi des termes \" au surplus \" ).\n",
      "Sentence :  Le recours, insuffisamment motivé, doit dès lors être écarté en application de l ' art. 108 al. 1 let. b LTF. 2.\n",
      "Sentence :  Le recourant qui succombe, doit supporter les frais de justice ( art. 66 al. 1 LTF ), réduits en principe à 800 fr. lorsque l ' arrêt est rendu par un juge unique.\n",
      "Sentence :  Par ces motifs, le Président prononce :\n",
      "Sentence :  1.\n",
      "Sentence :  Le recours est irrecevable.\n",
      "Sentence :  2.\n",
      "Sentence :  Les frais judiciaires, arrêtés à 800 fr., sont mis à la charge du recourant.\n",
      "Sentence :  3.\n",
      "Sentence :  Le présent\n"
     ]
    }
   ],
   "source": [
    "view_sentences(sentences_2)"
   ]
  },
  {
   "cell_type": "code",
   "execution_count": 41,
   "metadata": {},
   "outputs": [
    {
     "data": {
      "text/plain": [
       "1885"
      ]
     },
     "execution_count": 41,
     "metadata": {},
     "output_type": "execute_result"
    }
   ],
   "source": [
    "count_length(sentences_2)"
   ]
  }
 ],
 "metadata": {
  "kernelspec": {
   "display_name": "DSL_NER",
   "language": "python",
   "name": "python3"
  },
  "language_info": {
   "codemirror_mode": {
    "name": "ipython",
    "version": 3
   },
   "file_extension": ".py",
   "mimetype": "text/x-python",
   "name": "python",
   "nbconvert_exporter": "python",
   "pygments_lexer": "ipython3",
   "version": "3.11.10"
  }
 },
 "nbformat": 4,
 "nbformat_minor": 2
}
